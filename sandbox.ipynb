{
 "cells": [
  {
   "cell_type": "code",
   "execution_count": 8,
   "metadata": {},
   "outputs": [],
   "source": [
    "import numpy as np\n",
    "import matplotlib.pyplot as plt\n",
    "import tensorflow as tf\n",
    "import tensorflow_addons as tfa\n",
    "from tensorflow import keras\n",
    "from tensorflow.keras import models\n",
    "import os"
   ]
  },
  {
   "cell_type": "code",
   "execution_count": 1,
   "metadata": {},
   "outputs": [],
   "source": [
    "import pickle"
   ]
  },
  {
   "cell_type": "code",
   "execution_count": 7,
   "metadata": {},
   "outputs": [
    {
     "data": {
      "text/plain": [
       "(570, 200)"
      ]
     },
     "execution_count": 7,
     "metadata": {},
     "output_type": "execute_result"
    }
   ],
   "source": [
    "Z = pickle.load(open(\"./src/Z_on_epoch_{epoch}.pkl\", \"rb\"))\n",
    "Z.shape"
   ]
  },
  {
   "cell_type": "code",
   "execution_count": null,
   "metadata": {},
   "outputs": [],
   "source": [
    "adp_avg_pool_1 = models.Sequential(\n",
    "    [\n",
    "        tfa.layers.AdaptiveAveragePooling3D((1,1,1))\n",
    "    ]\n",
    ")(dense_1)"
   ]
  },
  {
   "cell_type": "code",
   "execution_count": 2,
   "metadata": {},
   "outputs": [],
   "source": [
    "lay = tf.random.normal(shape=(4,28,28,28,16))"
   ]
  },
  {
   "cell_type": "code",
   "execution_count": 6,
   "metadata": {},
   "outputs": [
    {
     "data": {
      "text/plain": [
       "<tensorflow_addons.layers.adaptive_pooling.AdaptiveAveragePooling3D at 0x296dd60fd48>"
      ]
     },
     "execution_count": 6,
     "metadata": {},
     "output_type": "execute_result"
    }
   ],
   "source": [
    "adp = tfa.layers.AdaptiveAveragePooling3D((1,1,1))\n",
    "adp"
   ]
  },
  {
   "cell_type": "code",
   "execution_count": 7,
   "metadata": {},
   "outputs": [
    {
     "data": {
      "text/plain": [
       "<tf.Tensor: shape=(4, 1, 1, 1, 16), dtype=float32, numpy=\n",
       "array([[[[[-0.00195031,  0.00350543,  0.00778467, -0.00077258,\n",
       "            0.00723419, -0.0014426 , -0.00891117,  0.00117732,\n",
       "            0.00467291,  0.00066401, -0.00254393, -0.00247928,\n",
       "           -0.0010138 , -0.00273229,  0.00372446,  0.01625756]]]],\n",
       "\n",
       "\n",
       "\n",
       "       [[[[-0.00405249,  0.00968042,  0.00979526, -0.01186663,\n",
       "           -0.00615829, -0.00562994,  0.00565958, -0.01202002,\n",
       "            0.00091354, -0.00047189, -0.01292971,  0.00518528,\n",
       "            0.00604478,  0.00857388,  0.01036444, -0.00487937]]]],\n",
       "\n",
       "\n",
       "\n",
       "       [[[[ 0.00078973, -0.00579687, -0.00523048, -0.0052441 ,\n",
       "            0.00491744, -0.00285878,  0.00497908, -0.00036357,\n",
       "            0.00714884,  0.00514707,  0.00259139,  0.00127966,\n",
       "           -0.00554662, -0.01215846, -0.00773185, -0.00828895]]]],\n",
       "\n",
       "\n",
       "\n",
       "       [[[[-0.00532821,  0.00128079, -0.00415135,  0.0014854 ,\n",
       "            0.00470135, -0.00454996, -0.00995447, -0.00100237,\n",
       "            0.00475027, -0.01435739,  0.00444754, -0.00493859,\n",
       "            0.00379402, -0.00240127,  0.00472278,  0.01109662]]]]],\n",
       "      dtype=float32)>"
      ]
     },
     "execution_count": 7,
     "metadata": {},
     "output_type": "execute_result"
    }
   ],
   "source": [
    "adp(lay)"
   ]
  },
  {
   "cell_type": "code",
   "execution_count": 2,
   "metadata": {},
   "outputs": [],
   "source": [
    "from src.utils import *\n",
    "from neural_nets.VAE3D import"
   ]
  },
  {
   "cell_type": "code",
   "execution_count": 12,
   "metadata": {},
   "outputs": [],
   "source": [
    "data = concat_channels_0(tf.Variable(\"./data/autoimplant/nrrd/defective_skull/parietotemporal/009.nrrd\"))"
   ]
  },
  {
   "cell_type": "code",
   "execution_count": 13,
   "metadata": {},
   "outputs": [
    {
     "data": {
      "text/plain": [
       "TensorShape([1, 128, 128, 128, 2])"
      ]
     },
     "execution_count": 13,
     "metadata": {},
     "output_type": "execute_result"
    }
   ],
   "source": [
    "data = tf.expand_dims(data, axis=0)\n",
    "data.shape"
   ]
  },
  {
   "cell_type": "code",
   "execution_count": 14,
   "metadata": {},
   "outputs": [],
   "source": [
    "input_skull = data.numpy()\n",
    "input_skull_proj_1 = np.hstack([input_skull[0,:,:,40,0], input_skull[0,:,:,40,1]])\n",
    "input_skull_proj_2 = np.hstack([np.rot90(input_skull[0,:,40,:,0]), np.rot90(input_skull[0,:,40,:,1])])\n",
    "input_skull_proj_3 = np.hstack([np.rot90(input_skull[0,40,:,:,0]), np.rot90(input_skull[0,40,:,:,1])])\n",
    "input_skull_result = np.vstack([input_skull_proj_1, input_skull_proj_2, input_skull_proj_3])"
   ]
  },
  {
   "cell_type": "code",
   "execution_count": 15,
   "metadata": {},
   "outputs": [
    {
     "data": {
      "text/plain": [
       "(384, 256)"
      ]
     },
     "execution_count": 15,
     "metadata": {},
     "output_type": "execute_result"
    }
   ],
   "source": [
    "input_skull_result.shape"
   ]
  },
  {
   "cell_type": "code",
   "execution_count": 16,
   "metadata": {},
   "outputs": [
    {
     "data": {
      "text/plain": [
       "<matplotlib.image.AxesImage at 0x150d5259708>"
      ]
     },
     "execution_count": 16,
     "metadata": {},
     "output_type": "execute_result"
    },
    {
     "data": {
      "image/png": "[encoded data removed]",
      "text/plain": [
       "<Figure size 900x600 with 1 Axes>"
      ]
     },
     "metadata": {
      "needs_background": "light"
     },
     "output_type": "display_data"
    }
   ],
   "source": [
    "plt.figure(dpi=150)\n",
    "plt.imshow(input_skull_result, cmap=\"gray\")"
   ]
  },
  {
   "cell_type": "code",
   "execution_count": 8,
   "metadata": {},
   "outputs": [],
   "source": [
    "A = [10,21,31,432]"
   ]
  },
  {
   "cell_type": "code",
   "execution_count": 13,
   "metadata": {},
   "outputs": [
    {
     "data": {
      "text/plain": [
       "10"
      ]
     },
     "execution_count": 13,
     "metadata": {},
     "output_type": "execute_result"
    }
   ],
   "source": [
    "next(iter(A))"
   ]
  },
  {
   "cell_type": "code",
   "execution_count": 1,
   "metadata": {},
   "outputs": [],
   "source": [
    "import tensorflow as tf"
   ]
  },
  {
   "cell_type": "code",
   "execution_count": 15,
   "metadata": {},
   "outputs": [],
   "source": [
    "A = tf.random.normal(shape=(4,8,8,8,2))"
   ]
  },
  {
   "cell_type": "code",
   "execution_count": 2,
   "metadata": {},
   "outputs": [],
   "source": [
    "import pickle"
   ]
  },
  {
   "cell_type": "code",
   "execution_count": 20,
   "metadata": {},
   "outputs": [],
   "source": [
    "Z = pickle.load(open(\"./data/VAE3D_data/latent_manifold/Z_on_epoch_29.pkl\", \"rb\"))"
   ]
  },
  {
   "cell_type": "code",
   "execution_count": 21,
   "metadata": {},
   "outputs": [
    {
     "data": {
      "text/plain": [
       "<tf.Tensor: shape=(1, 200), dtype=float32, numpy=\n",
       "array([[ 1.71122506e-01, -4.96876717e-01,  5.84929287e-01,\n",
       "        -3.48042995e-01,  1.82705820e-01, -4.10936475e-02,\n",
       "         1.87456131e-01, -1.37744755e-01,  2.93604910e-01,\n",
       "         9.93704051e-02,  1.27480179e-01, -3.95432770e-01,\n",
       "         1.93488836e-01,  2.27827176e-01,  2.36132354e-01,\n",
       "         1.50798270e-02, -2.28480756e-01, -9.83968616e-01,\n",
       "        -3.09774518e-01,  1.22316256e-01, -1.76198736e-01,\n",
       "        -2.84890920e-01,  1.42757684e-01,  4.84187901e-01,\n",
       "        -2.58845538e-02, -1.55543470e+00, -2.14304581e-01,\n",
       "        -1.32992595e-01,  2.89155155e-01,  8.45363587e-02,\n",
       "         1.22079894e-01, -3.76073658e-01,  6.89182162e-01,\n",
       "        -7.35407650e-01,  3.12057018e-01,  8.07993770e-01,\n",
       "        -1.98233187e-01, -3.02508563e-01,  1.76292211e-01,\n",
       "        -4.72717911e-01,  2.82981128e-01, -4.45267498e-01,\n",
       "        -1.30170494e-01,  6.10538661e-01,  1.01870492e-01,\n",
       "        -5.42607903e-02, -1.82273209e-01,  4.50802967e-02,\n",
       "        -1.56920090e-01, -2.07961604e-01,  8.86094719e-02,\n",
       "        -1.13190338e-01,  3.67180020e-01, -4.38763797e-01,\n",
       "         4.50859904e-01,  2.37222582e-01, -4.40578848e-01,\n",
       "        -1.57526970e-01, -1.76073760e-01,  3.60603720e-01,\n",
       "         3.36465448e-01, -1.09244436e-01,  3.02672416e-01,\n",
       "        -1.93677098e-01,  4.08170313e-01,  1.40053010e+00,\n",
       "         3.30629647e-02,  2.28665292e-01,  1.72610879e-01,\n",
       "        -1.66296899e-01, -6.37985528e-01, -1.18785274e+00,\n",
       "        -2.89251149e-01, -4.26541269e-01, -7.45041728e-01,\n",
       "         2.18327582e-01, -8.60565424e-01,  4.15918648e-01,\n",
       "        -5.75986981e-01, -7.62525052e-02,  4.41998571e-01,\n",
       "         1.44116253e-01, -6.34635389e-02, -6.79230094e-02,\n",
       "        -2.63270646e-01,  3.71543080e-01, -6.37058854e-01,\n",
       "         5.83944738e-01,  4.20059621e-01, -5.03485262e-01,\n",
       "        -3.29673916e-01, -2.64013976e-01, -5.06154656e-01,\n",
       "         5.28836668e-01, -2.99321294e-01, -7.01003969e-02,\n",
       "        -2.82375962e-01, -2.47057319e-01, -2.42307261e-01,\n",
       "        -3.28436226e-01,  2.15750411e-02,  1.71143979e-01,\n",
       "         5.68993449e-01, -5.44022322e-01,  3.43258291e-01,\n",
       "        -2.00800031e-01, -1.98934108e-01, -1.16251558e-02,\n",
       "         5.02284944e-01,  5.01366444e-02,  3.53050120e-02,\n",
       "         4.92472798e-01,  3.05597603e-01, -4.39558774e-01,\n",
       "         9.62898076e-01, -1.11685470e-01,  3.17345798e-01,\n",
       "         2.63869673e-01,  7.68356845e-02,  4.35023457e-02,\n",
       "        -6.21009767e-02, -7.48169899e-01, -7.89314628e-01,\n",
       "        -1.23236917e-01,  4.96017009e-01, -3.65784109e-01,\n",
       "        -2.63295591e-01, -1.11162171e-01,  2.23245963e-01,\n",
       "         1.30631709e+00,  3.15498441e-01,  2.83399940e-01,\n",
       "         7.30006993e-01, -2.09260315e-01, -6.59146383e-02,\n",
       "         2.09012792e-01,  2.71098852e-01, -2.57557333e-02,\n",
       "         2.13585377e-01,  6.08929157e-01,  1.89091057e-01,\n",
       "        -4.73311320e-02, -3.53560537e-01,  2.65681297e-02,\n",
       "        -2.61470526e-01,  1.34278992e-02,  3.91304716e-02,\n",
       "         5.39732933e-01, -1.41845658e-01, -3.15150946e-01,\n",
       "        -6.38319790e-01, -6.06579423e-01,  3.47237587e-01,\n",
       "         1.49676621e-01,  2.15163875e+00, -1.18282795e-01,\n",
       "         3.09803605e-01,  8.12933981e-01,  6.16336837e-02,\n",
       "        -2.09345460e-01,  1.92261040e-01,  2.03107402e-01,\n",
       "         1.51320070e-01,  1.19647813e+00, -2.96496749e-01,\n",
       "         2.79530376e-01,  4.34033215e-01, -1.15449384e-01,\n",
       "        -3.97832274e-01,  5.44917881e-01,  4.66720581e-01,\n",
       "        -8.24262321e-01, -3.17487955e-01,  8.86055455e-02,\n",
       "         2.06870958e-03,  4.59560677e-02, -1.83666617e-01,\n",
       "        -3.45760733e-02,  2.14718375e-02, -2.46657342e-01,\n",
       "        -2.73852013e-02,  2.17554659e-01,  1.60819113e-01,\n",
       "        -1.13197637e+00, -2.45254457e-01, -3.31421942e-02,\n",
       "        -1.15765259e-01,  4.64369774e-01, -7.08758116e-01,\n",
       "        -1.20298892e-01,  6.05983317e-01, -6.58405647e-02,\n",
       "         1.57410130e-01,  1.59711361e-01, -5.93633913e-02,\n",
       "        -4.81422573e-01,  7.27791414e-02, -1.28389049e+00,\n",
       "         1.85831562e-02, -8.05085748e-02]], dtype=float32)>"
      ]
     },
     "execution_count": 21,
     "metadata": {},
     "output_type": "execute_result"
    }
   ],
   "source": [
    "import tensorflow as tf\n",
    "Z"
   ]
  },
  {
   "cell_type": "code",
   "execution_count": null,
   "metadata": {},
   "outputs": [],
   "source": []
  },
  {
   "cell_type": "code",
   "execution_count": null,
   "metadata": {},
   "outputs": [],
   "source": []
  },
  {
   "cell_type": "code",
   "execution_count": 17,
   "metadata": {},
   "outputs": [],
   "source": [
    "import matplotlib.pyplot as plt\n",
    "import numpy as np"
   ]
  },
  {
   "cell_type": "code",
   "execution_count": 22,
   "metadata": {},
   "outputs": [
    {
     "data": {
      "text/plain": [
       "[<matplotlib.lines.Line2D at 0x1a745714408>]"
      ]
     },
     "execution_count": 22,
     "metadata": {},
     "output_type": "execute_result"
    },
    {
     "data": {
      "image/png": "[encoded data removed]",
      "text/plain": [
       "<Figure size 432x288 with 1 Axes>"
      ]
     },
     "metadata": {
      "needs_background": "light"
     },
     "output_type": "display_data"
    }
   ],
   "source": [
    "plt.plot(np.squeeze(Z.numpy()))"
   ]
  },
  {
   "cell_type": "code",
   "execution_count": 3,
   "metadata": {},
   "outputs": [],
   "source": [
    "Z_mean = pickle.load(open(\"./data/VAE3D_data/latent_manifold/Z_mean_on_epoch_29.pkl\", \"rb\"))\n",
    "Z_var = pickle.load(open(\"./data/VAE3D_data/latent_manifold/Z_var_on_epoch_29.pkl\", \"rb\"))"
   ]
  },
  {
   "cell_type": "code",
   "execution_count": 4,
   "metadata": {},
   "outputs": [
    {
     "data": {
      "text/plain": [
       "<tf.Tensor: shape=(1, 200), dtype=float32, numpy=\n",
       "array([[ 0.21628481, -0.39277014,  0.617361  , -0.282273  ,  0.15575907,\n",
       "        -0.02224479,  0.23848866, -0.11517833,  0.24230717,  0.14578037,\n",
       "         0.17337392, -0.4611442 ,  0.1112757 ,  0.27146018,  0.27927408,\n",
       "         0.0142543 , -0.28966823, -1.0030348 , -0.2959971 ,  0.05009238,\n",
       "        -0.15381972, -0.38502166,  0.08752226,  0.46295255, -0.06432788,\n",
       "        -1.5290437 , -0.19203795, -0.1601657 ,  0.2732051 ,  0.07261733,\n",
       "        -0.02516659, -0.3608701 ,  0.73665136, -0.75300723,  0.2747371 ,\n",
       "         0.63134843, -0.1786604 , -0.22779275,  0.25047317, -0.48577565,\n",
       "         0.30049223, -0.48259926, -0.04949331,  0.5286585 ,  0.03807203,\n",
       "        -0.05486199, -0.17902268,  0.04262661, -0.19560774, -0.1725115 ,\n",
       "         0.14096867, -0.11464354,  0.3248257 , -0.4418129 ,  0.18611413,\n",
       "         0.23901337, -0.43058014, -0.26593933, -0.19216618,  0.3582771 ,\n",
       "         0.33612508, -0.17684746,  0.40268785, -0.13954741,  0.40713122,\n",
       "         1.4200258 ,  0.08367562,  0.25362074,  0.20214874, -0.14112625,\n",
       "        -0.7435819 , -1.2017772 , -0.21803284, -0.3912059 , -0.77863336,\n",
       "         0.27569258, -0.92534477,  0.46566516, -0.6144932 , -0.11606856,\n",
       "         0.41867206,  0.08692221, -0.10698681, -0.02471195, -0.20725532,\n",
       "         0.27988517, -0.643418  ,  0.6276844 ,  0.45248434, -0.4404415 ,\n",
       "        -0.2908267 , -0.28161743, -0.50586706,  0.49998036, -0.23604453,\n",
       "        -0.12137842, -0.22424518, -0.08127729, -0.37901273, -0.278517  ,\n",
       "         0.09070928,  0.18841021,  0.57301724, -0.49816987,  0.35469788,\n",
       "        -0.247782  , -0.13252604,  0.0530429 ,  0.45815283,  0.07865381,\n",
       "         0.07895032,  0.49042436,  0.29410237, -0.43954217,  0.95302695,\n",
       "        -0.15722437,  0.301096  ,  0.24919245,  0.16170998,  0.08495453,\n",
       "        -0.08929127, -0.6834294 , -0.7199358 , -0.02129142,  0.55178076,\n",
       "        -0.35599715, -0.2072818 , -0.17147344,  0.23626383,  1.3385594 ,\n",
       "         0.2527023 ,  0.37269333,  0.6926768 , -0.1497734 ,  0.08851034,\n",
       "         0.41484404,  0.33829436,  0.06340005,  0.10889348,  0.45393375,\n",
       "         0.15331352, -0.09246813, -0.40344027,  0.08729908, -0.2060181 ,\n",
       "         0.00477147,  0.12383931,  0.51866925, -0.18047318, -0.30703294,\n",
       "        -0.61047596, -0.58463347,  0.3536098 ,  0.05180402,  2.1287794 ,\n",
       "        -0.05596078,  0.3288506 ,  0.7726491 ,  0.08810876, -0.16792257,\n",
       "         0.1863804 ,  0.23197326,  0.15072438,  1.1175616 , -0.19953196,\n",
       "         0.48611683,  0.4668604 , -0.06072235, -0.37619218,  0.5319682 ,\n",
       "         0.45777667, -0.79193676, -0.25841215,  0.1860282 ,  0.05309183,\n",
       "         0.10137604, -0.21549608,  0.02976715,  0.01081498, -0.21864933,\n",
       "        -0.07216208,  0.25051832,  0.14421275, -1.0560898 , -0.29170403,\n",
       "        -0.01535894, -0.07338454,  0.45326385, -0.7333837 , -0.10957051,\n",
       "         0.628375  , -0.13716106,  0.17670316,  0.09889705, -0.07118578,\n",
       "        -0.5423927 , -0.01310167, -1.34257   ,  0.01101954, -0.12395148]],\n",
       "      dtype=float32)>"
      ]
     },
     "execution_count": 4,
     "metadata": {},
     "output_type": "execute_result"
    }
   ],
   "source": [
    "Z_mean"
   ]
  },
  {
   "cell_type": "code",
   "execution_count": 5,
   "metadata": {},
   "outputs": [
    {
     "data": {
      "text/plain": [
       "<tf.Tensor: shape=(8, 200), dtype=float32, numpy=\n",
       "array([[ 0.6568359 ,  1.5526627 ,  0.3126174 , ..., -0.858954  ,\n",
       "         0.69704145, -0.69924587],\n",
       "       [-0.9640053 , -1.456566  , -0.57168293, ..., -0.7145635 ,\n",
       "        -0.58569396, -0.9846727 ],\n",
       "       [ 0.6538534 , -0.12141974,  1.3969985 , ...,  0.32238626,\n",
       "        -0.1998955 , -1.9021146 ],\n",
       "       ...,\n",
       "       [ 0.14714801,  1.9579331 , -2.058637  , ...,  1.1610029 ,\n",
       "        -0.97183007, -0.40169325],\n",
       "       [ 0.22802818, -0.7981366 , -1.4194682 , ...,  0.641281  ,\n",
       "         1.3241034 ,  1.3597634 ],\n",
       "       [ 1.4463814 , -0.10619486, -0.17482156, ...,  0.06537844,\n",
       "        -0.5686394 ,  0.45215464]], dtype=float32)>"
      ]
     },
     "execution_count": 5,
     "metadata": {},
     "output_type": "execute_result"
    }
   ],
   "source": []
  },
  {
   "cell_type": "code",
   "execution_count": 29,
   "metadata": {},
   "outputs": [],
   "source": [
    "epsilon = tf.random.normal(shape=(1, tf.shape(Z_mean)[1]))\n",
    "Z_new = Z_mean + tf.exp(Z_var / 2) * epsilon"
   ]
  },
  {
   "cell_type": "code",
   "execution_count": 35,
   "metadata": {},
   "outputs": [
    {
     "data": {
      "text/plain": [
       "[<matplotlib.lines.Line2D at 0x1a745a29a88>]"
      ]
     },
     "execution_count": 35,
     "metadata": {},
     "output_type": "execute_result"
    },
    {
     "data": {
      "image/png": "[encoded data removed]",
      "text/plain": [
       "<Figure size 432x288 with 1 Axes>"
      ]
     },
     "metadata": {
      "needs_background": "light"
     },
     "output_type": "display_data"
    }
   ],
   "source": [
    "plt.figure()\n",
    "plt.plot(np.squeeze(Z.numpy()))\n",
    "plt.plot(np.squeeze(Z_new.numpy()))"
   ]
  },
  {
   "cell_type": "code",
   "execution_count": 37,
   "metadata": {},
   "outputs": [
    {
     "data": {
      "text/plain": [
       "<tf.Tensor: shape=(), dtype=float32, numpy=0.96030563>"
      ]
     },
     "execution_count": 37,
     "metadata": {},
     "output_type": "execute_result"
    }
   ],
   "source": [
    "tf.reduce_sum(Z_mean - Z)"
   ]
  },
  {
   "cell_type": "code",
   "execution_count": 1,
   "metadata": {},
   "outputs": [
    {
     "name": "stdout",
     "output_type": "stream",
     "text": [
      "WARNING:tensorflow:From c:\\Users\\Kamil\\anaconda3\\envs\\blue\\lib\\site-packages\\tensorflow\\python\\summary\\summary_iterator.py:31: tf_record_iterator (from tensorflow.python.lib.io.tf_record) is deprecated and will be removed in a future version.\n",
      "Instructions for updating:\n",
      "Use eager execution and: \n",
      "`tf.data.TFRecordDataset(path)`\n"
     ]
    },
    {
     "data": {
      "image/png": "[encoded data removed]",
      "text/plain": [
       "<Figure size 1400x800 with 1 Axes>"
      ]
     },
     "metadata": {
      "needs_background": "light"
     },
     "output_type": "display_data"
    }
   ],
   "source": [
    "from tensorflow.python.summary.summary_iterator import summary_iterator\n",
    "import tensorflow as tf\n",
    "import matplotlib.pyplot as plt\n",
    "import seaborn as sns\n",
    "\n",
    "critic_losses = []\n",
    "generator_losses = []\n",
    "\n",
    "for e in summary_iterator(\"./data/VAE_WGANGP3D_data/logs_1/train/events.out.tfevents.1661602693.p2310.22211.0.v2\"):\n",
    "    for v in e.summary.value:\n",
    "        if v.tag == \"epoch_critic_loss\":\n",
    "            loss_val = tf.make_ndarray(v.tensor)\n",
    "            critic_losses.append(loss_val)\n",
    "        elif v.tag == \"epoch_generator_loss\":\n",
    "            loss_val = tf.make_ndarray(v.tensor)\n",
    "            generator_losses.append(loss_val)\n",
    "\n",
    "for e in summary_iterator(\"./data/VAE_WGANGP3D_data/logs_2/train/events.out.tfevents.1661636407.p2310.26447.0.v2\"):\n",
    "    for v in e.summary.value:\n",
    "        if v.tag == \"epoch_critic_loss\":\n",
    "            loss_val = tf.make_ndarray(v.tensor)\n",
    "            critic_losses.append(loss_val)\n",
    "        elif v.tag == \"epoch_generator_loss\":\n",
    "            loss_val = tf.make_ndarray(v.tensor)\n",
    "            generator_losses.append(loss_val)\n",
    "\n",
    "for e in summary_iterator(\"./data/VAE_WGANGP3D_data/logs_3/train/events.out.tfevents.1661672562.p2310.28645.0.v2\"):\n",
    "    for v in e.summary.value:\n",
    "        if v.tag == \"epoch_critic_loss\":\n",
    "            loss_val = tf.make_ndarray(v.tensor)\n",
    "            critic_losses.append(loss_val)\n",
    "        elif v.tag == \"epoch_generator_loss\":\n",
    "            loss_val = tf.make_ndarray(v.tensor)\n",
    "            generator_losses.append(loss_val)\n",
    "\n",
    "for e in summary_iterator(\"./data/VAE_WGANGP3D_data/logs_4/train/events.out.tfevents.1661764201.p2308.30840.0.v2\"):\n",
    "    for v in e.summary.value:\n",
    "        if v.tag == \"epoch_critic_loss\":\n",
    "            loss_val = tf.make_ndarray(v.tensor)\n",
    "            critic_losses.append(loss_val)\n",
    "        elif v.tag == \"epoch_generator_loss\":\n",
    "            loss_val = tf.make_ndarray(v.tensor)\n",
    "            generator_losses.append(loss_val)\n",
    "\n",
    "plt.figure(figsize=(14,8), dpi=100)\n",
    "plt.plot(generator_losses, label=\"Generator\", color=(0.482, 0.631, 0.761), linewidth=2)\n",
    "plt.plot(critic_losses, label=\"Critic\", color=(0.369, 0.263, 0.647), linewidth=2)\n",
    "plt.xlabel(\"Epoch\")\n",
    "plt.ylabel(\"Wasserstein loss\")\n",
    "plt.legend(loc=\"best\")\n",
    "plt.grid(True)\n",
    "plt.show()"
   ]
  },
  {
   "cell_type": "code",
   "execution_count": 12,
   "metadata": {},
   "outputs": [],
   "source": [
    "import os\n",
    "import sys"
   ]
  },
  {
   "cell_type": "code",
   "execution_count": 13,
   "metadata": {},
   "outputs": [
    {
     "ename": "NameError",
     "evalue": "name '__file__' is not defined",
     "output_type": "error",
     "traceback": [
      "\u001b[1;31m---------------------------------------------------------------------------\u001b[0m",
      "\u001b[1;31mNameError\u001b[0m                                 Traceback (most recent call last)",
      "\u001b[1;32m~\\AppData\\Local\\Temp/ipykernel_1500/2175651757.py\u001b[0m in \u001b[0;36m<module>\u001b[1;34m\u001b[0m\n\u001b[1;32m----> 1\u001b[1;33m \u001b[0mos\u001b[0m\u001b[1;33m.\u001b[0m\u001b[0mpath\u001b[0m\u001b[1;33m.\u001b[0m\u001b[0mdirname\u001b[0m\u001b[1;33m(\u001b[0m\u001b[0m__file__\u001b[0m\u001b[1;33m)\u001b[0m\u001b[1;33m\u001b[0m\u001b[1;33m\u001b[0m\u001b[0m\n\u001b[0m",
      "\u001b[1;31mNameError\u001b[0m: name '__file__' is not defined"
     ]
    }
   ],
   "source": [
    "os.path.dirname(__file__)"
   ]
  },
  {
   "cell_type": "code",
   "execution_count": 11,
   "metadata": {},
   "outputs": [
    {
     "ename": "UnicodeDecodeError",
     "evalue": "'utf-8' codec can't decode byte 0xbf in position 99: invalid start byte",
     "output_type": "error",
     "traceback": [
      "\u001b[1;31m---------------------------------------------------------------------------\u001b[0m",
      "\u001b[1;31mUnicodeDecodeError\u001b[0m                        Traceback (most recent call last)",
      "\u001b[1;32m~\\AppData\\Local\\Temp/ipykernel_1500/2117989384.py\u001b[0m in \u001b[0;36m<module>\u001b[1;34m\u001b[0m\n\u001b[0;32m      4\u001b[0m \u001b[1;32mfor\u001b[0m \u001b[0m_\u001b[0m\u001b[1;33m,\u001b[0m \u001b[0m_\u001b[0m\u001b[1;33m,\u001b[0m \u001b[0mtfevents\u001b[0m \u001b[1;32min\u001b[0m \u001b[0mos\u001b[0m\u001b[1;33m.\u001b[0m\u001b[0mwalk\u001b[0m\u001b[1;33m(\u001b[0m\u001b[1;34m\"./data/VAE_WGANGP3D_data/logs_4/train\"\u001b[0m\u001b[1;33m)\u001b[0m\u001b[1;33m:\u001b[0m\u001b[1;33m\u001b[0m\u001b[1;33m\u001b[0m\u001b[0m\n\u001b[0;32m      5\u001b[0m     \u001b[1;32mfor\u001b[0m \u001b[0mtfevent\u001b[0m \u001b[1;32min\u001b[0m \u001b[0mtfevents\u001b[0m\u001b[1;33m:\u001b[0m\u001b[1;33m\u001b[0m\u001b[1;33m\u001b[0m\u001b[0m\n\u001b[1;32m----> 6\u001b[1;33m         \u001b[1;32mfor\u001b[0m \u001b[0me\u001b[0m \u001b[1;32min\u001b[0m \u001b[0msummary_iterator\u001b[0m\u001b[1;33m(\u001b[0m\u001b[0mtfevent\u001b[0m\u001b[1;33m)\u001b[0m\u001b[1;33m:\u001b[0m\u001b[1;33m\u001b[0m\u001b[1;33m\u001b[0m\u001b[0m\n\u001b[0m\u001b[0;32m      7\u001b[0m             \u001b[1;32mfor\u001b[0m \u001b[0mv\u001b[0m \u001b[1;32min\u001b[0m \u001b[0me\u001b[0m\u001b[1;33m.\u001b[0m\u001b[0msummary\u001b[0m\u001b[1;33m.\u001b[0m\u001b[0mvalue\u001b[0m\u001b[1;33m:\u001b[0m\u001b[1;33m\u001b[0m\u001b[1;33m\u001b[0m\u001b[0m\n\u001b[0;32m      8\u001b[0m                 \u001b[1;32mif\u001b[0m \u001b[0mv\u001b[0m\u001b[1;33m.\u001b[0m\u001b[0mtag\u001b[0m \u001b[1;33m==\u001b[0m \u001b[1;34m\"epoch_critic_loss\"\u001b[0m\u001b[1;33m:\u001b[0m\u001b[1;33m\u001b[0m\u001b[1;33m\u001b[0m\u001b[0m\n",
      "\u001b[1;32mc:\\Users\\Kamil\\anaconda3\\envs\\blue\\lib\\site-packages\\tensorflow\\python\\summary\\summary_iterator.py\u001b[0m in \u001b[0;36msummary_iterator\u001b[1;34m(path)\u001b[0m\n\u001b[0;32m     93\u001b[0m     \u001b[0mA\u001b[0m \u001b[0miterator\u001b[0m \u001b[0mthat\u001b[0m \u001b[0myields\u001b[0m\u001b[0;31m \u001b[0m\u001b[0;31m`\u001b[0m\u001b[0mEvent\u001b[0m\u001b[0;31m`\u001b[0m \u001b[0mprotocol\u001b[0m \u001b[0mbuffers\u001b[0m\u001b[1;33m\u001b[0m\u001b[1;33m\u001b[0m\u001b[0m\n\u001b[0;32m     94\u001b[0m   \"\"\"\n\u001b[1;32m---> 95\u001b[1;33m   \u001b[1;32mreturn\u001b[0m \u001b[0m_SummaryIterator\u001b[0m\u001b[1;33m(\u001b[0m\u001b[0mpath\u001b[0m\u001b[1;33m)\u001b[0m\u001b[1;33m\u001b[0m\u001b[1;33m\u001b[0m\u001b[0m\n\u001b[0m",
      "\u001b[1;32mc:\\Users\\Kamil\\anaconda3\\envs\\blue\\lib\\site-packages\\tensorflow\\python\\summary\\summary_iterator.py\u001b[0m in \u001b[0;36m__init__\u001b[1;34m(self, path)\u001b[0m\n\u001b[0;32m     29\u001b[0m \u001b[1;33m\u001b[0m\u001b[0m\n\u001b[0;32m     30\u001b[0m   \u001b[1;32mdef\u001b[0m \u001b[0m__init__\u001b[0m\u001b[1;33m(\u001b[0m\u001b[0mself\u001b[0m\u001b[1;33m,\u001b[0m \u001b[0mpath\u001b[0m\u001b[1;33m)\u001b[0m\u001b[1;33m:\u001b[0m\u001b[1;33m\u001b[0m\u001b[1;33m\u001b[0m\u001b[0m\n\u001b[1;32m---> 31\u001b[1;33m     \u001b[0mself\u001b[0m\u001b[1;33m.\u001b[0m\u001b[0m_tf_record_iterator\u001b[0m \u001b[1;33m=\u001b[0m \u001b[0mtf_record\u001b[0m\u001b[1;33m.\u001b[0m\u001b[0mtf_record_iterator\u001b[0m\u001b[1;33m(\u001b[0m\u001b[0mpath\u001b[0m\u001b[1;33m)\u001b[0m\u001b[1;33m\u001b[0m\u001b[1;33m\u001b[0m\u001b[0m\n\u001b[0m\u001b[0;32m     32\u001b[0m \u001b[1;33m\u001b[0m\u001b[0m\n\u001b[0;32m     33\u001b[0m   \u001b[1;32mdef\u001b[0m \u001b[0m__iter__\u001b[0m\u001b[1;33m(\u001b[0m\u001b[0mself\u001b[0m\u001b[1;33m)\u001b[0m\u001b[1;33m:\u001b[0m\u001b[1;33m\u001b[0m\u001b[1;33m\u001b[0m\u001b[0m\n",
      "\u001b[1;32mc:\\Users\\Kamil\\anaconda3\\envs\\blue\\lib\\site-packages\\tensorflow\\python\\util\\deprecation.py\u001b[0m in \u001b[0;36mnew_func\u001b[1;34m(*args, **kwargs)\u001b[0m\n\u001b[0;32m    346\u001b[0m               \u001b[1;34m'in a future version'\u001b[0m \u001b[1;32mif\u001b[0m \u001b[0mdate\u001b[0m \u001b[1;32mis\u001b[0m \u001b[1;32mNone\u001b[0m \u001b[1;32melse\u001b[0m \u001b[1;33m(\u001b[0m\u001b[1;34m'after %s'\u001b[0m \u001b[1;33m%\u001b[0m \u001b[0mdate\u001b[0m\u001b[1;33m)\u001b[0m\u001b[1;33m,\u001b[0m\u001b[1;33m\u001b[0m\u001b[1;33m\u001b[0m\u001b[0m\n\u001b[0;32m    347\u001b[0m               instructions)\n\u001b[1;32m--> 348\u001b[1;33m       \u001b[1;32mreturn\u001b[0m \u001b[0mfunc\u001b[0m\u001b[1;33m(\u001b[0m\u001b[1;33m*\u001b[0m\u001b[0margs\u001b[0m\u001b[1;33m,\u001b[0m \u001b[1;33m**\u001b[0m\u001b[0mkwargs\u001b[0m\u001b[1;33m)\u001b[0m\u001b[1;33m\u001b[0m\u001b[1;33m\u001b[0m\u001b[0m\n\u001b[0m\u001b[0;32m    349\u001b[0m \u001b[1;33m\u001b[0m\u001b[0m\n\u001b[0;32m    350\u001b[0m     \u001b[0mdoc_controls\u001b[0m\u001b[1;33m.\u001b[0m\u001b[0mset_deprecated\u001b[0m\u001b[1;33m(\u001b[0m\u001b[0mnew_func\u001b[0m\u001b[1;33m)\u001b[0m\u001b[1;33m\u001b[0m\u001b[1;33m\u001b[0m\u001b[0m\n",
      "\u001b[1;32mc:\\Users\\Kamil\\anaconda3\\envs\\blue\\lib\\site-packages\\tensorflow\\python\\lib\\io\\tf_record.py\u001b[0m in \u001b[0;36mtf_record_iterator\u001b[1;34m(path, options)\u001b[0m\n\u001b[0;32m    169\u001b[0m   \"\"\"\n\u001b[0;32m    170\u001b[0m   \u001b[0mcompression_type\u001b[0m \u001b[1;33m=\u001b[0m \u001b[0mTFRecordOptions\u001b[0m\u001b[1;33m.\u001b[0m\u001b[0mget_compression_type_string\u001b[0m\u001b[1;33m(\u001b[0m\u001b[0moptions\u001b[0m\u001b[1;33m)\u001b[0m\u001b[1;33m\u001b[0m\u001b[1;33m\u001b[0m\u001b[0m\n\u001b[1;32m--> 171\u001b[1;33m   \u001b[1;32mreturn\u001b[0m \u001b[0m_pywrap_record_io\u001b[0m\u001b[1;33m.\u001b[0m\u001b[0mRecordIterator\u001b[0m\u001b[1;33m(\u001b[0m\u001b[0mpath\u001b[0m\u001b[1;33m,\u001b[0m \u001b[0mcompression_type\u001b[0m\u001b[1;33m)\u001b[0m\u001b[1;33m\u001b[0m\u001b[1;33m\u001b[0m\u001b[0m\n\u001b[0m\u001b[0;32m    172\u001b[0m \u001b[1;33m\u001b[0m\u001b[0m\n\u001b[0;32m    173\u001b[0m \u001b[1;33m\u001b[0m\u001b[0m\n",
      "\u001b[1;31mUnicodeDecodeError\u001b[0m: 'utf-8' codec can't decode byte 0xbf in position 99: invalid start byte"
     ]
    }
   ],
   "source": [
    "critic_losses = []\n",
    "generator_losses = []\n",
    "\n",
    "for _, _, tfevents in os.walk(\"./data/VAE_WGANGP3D_data/logs_4/train\"):\n",
    "    for tfevent in tfevents:\n",
    "        for e in summary_iterator(tfevent):\n",
    "            for v in e.summary.value:\n",
    "                if v.tag == \"epoch_critic_loss\":\n",
    "                    loss_val = tf.make_ndarray(v.tensor)\n",
    "                    critic_losses.append(loss_val)\n",
    "                elif v.tag == \"epoch_generator_loss\":\n",
    "                    loss_val = tf.make_ndarray(v.tensor)\n",
    "                    generator_losses.append(loss_val)"
   ]
  },
  {
   "cell_type": "code",
   "execution_count": 1,
   "metadata": {},
   "outputs": [],
   "source": [
    "import tensorflow as tf"
   ]
  },
  {
   "cell_type": "code",
   "execution_count": 2,
   "metadata": {},
   "outputs": [],
   "source": [
    "A = tf.random.normal(shape=(1,1,1,1024))"
   ]
  },
  {
   "cell_type": "code",
   "execution_count": 17,
   "metadata": {},
   "outputs": [],
   "source": [
    "B,Z = tf.split(tf.squeeze(A), num_or_size_splits=2, axis=-1)"
   ]
  },
  {
   "cell_type": "code",
   "execution_count": 18,
   "metadata": {},
   "outputs": [
    {
     "data": {
      "text/plain": [
       "<tf.Tensor: shape=(512,), dtype=float32, numpy=\n",
       "array([-1.07514247e-01,  1.65672290e+00,  3.84653583e-02, -1.34065616e+00,\n",
       "       -9.01972234e-01,  1.33092010e+00,  1.97827637e+00, -1.06921744e+00,\n",
       "        4.90706593e-01,  6.22515500e-01,  2.98329294e-01, -5.85451603e-01,\n",
       "        9.44944322e-01,  3.30459148e-01,  6.36438131e-01, -1.12261131e-01,\n",
       "        5.58861136e-01, -1.89523533e-01,  1.35089803e+00,  1.06477237e+00,\n",
       "       -3.20903026e-02, -1.85122177e-01,  8.70938778e-01,  4.79215950e-01,\n",
       "        3.65161717e-01, -2.85147130e-01,  1.22400796e+00,  3.66911024e-01,\n",
       "        1.71912555e-02, -1.04511333e+00,  1.24125755e+00, -5.75424433e-01,\n",
       "        1.25933254e+00, -2.21259522e+00,  7.13752508e-01,  1.11552429e+00,\n",
       "        1.91051528e-01,  2.58640480e+00, -1.57607007e+00, -2.65887523e+00,\n",
       "        1.40968394e+00,  5.28799415e-01,  4.50114727e-01, -4.52998489e-01,\n",
       "        5.07268012e-01, -2.48975098e-01,  5.20485938e-01,  2.29742289e+00,\n",
       "        7.78716683e-01, -2.31892610e+00,  1.70138776e+00, -1.28236842e+00,\n",
       "       -3.53622347e-01,  6.20559156e-01, -1.17766857e+00,  2.23280263e+00,\n",
       "        1.33005583e+00,  8.24573338e-01, -1.38720334e+00,  8.78382444e-01,\n",
       "        1.45413637e+00,  9.31989104e-02, -1.08470291e-01, -1.62886071e+00,\n",
       "        7.70926476e-02,  1.07360268e+00, -3.26606065e-01,  5.39561391e-01,\n",
       "        1.15082395e+00, -5.84357381e-02,  2.83843112e+00, -4.11685407e-01,\n",
       "       -2.60119736e-01, -1.26145446e+00,  2.65449472e-02, -4.54138309e-01,\n",
       "        1.10075557e+00, -2.80844063e-01,  8.01876545e-01, -1.47333607e-01,\n",
       "        1.81962180e+00, -4.69490588e-01,  7.88050145e-02,  1.20651841e+00,\n",
       "        1.21519220e+00, -3.38878274e-01,  1.08613074e+00, -6.40063226e-01,\n",
       "        1.21005380e+00,  4.36956704e-01,  1.47470808e+00, -8.59895289e-01,\n",
       "       -1.05603600e+00, -1.31500709e+00, -1.80827832e+00,  7.94078708e-01,\n",
       "        1.21390474e+00,  1.31923652e+00,  4.61375326e-01, -1.02690077e+00,\n",
       "        7.97557175e-01, -7.57452786e-01,  1.04466844e+00, -6.56753957e-01,\n",
       "        1.32812810e+00, -2.62413204e-01, -1.03023326e+00,  4.10892755e-01,\n",
       "        6.60501480e-01,  5.35507798e-01, -1.69298515e-01,  7.14873195e-01,\n",
       "       -5.24902105e-01,  1.11330271e+00, -6.56913757e-01, -6.33829296e-01,\n",
       "        2.26756290e-01, -1.92468062e-01,  6.40676141e-01,  3.87930751e-01,\n",
       "        1.01060367e+00,  1.10455811e+00,  8.19340885e-01,  2.25217983e-01,\n",
       "       -1.39083493e+00,  1.61012149e+00,  2.18551472e-01, -3.90201837e-01,\n",
       "        8.65112603e-01,  3.28081623e-02, -1.96371841e+00,  9.96815920e-01,\n",
       "       -5.22661209e-02,  1.65414929e+00, -6.76122308e-01, -1.15501538e-01,\n",
       "        3.65785092e-01,  2.00183690e-01,  3.89239818e-01, -2.73591140e-03,\n",
       "        5.76153278e-01,  6.35478675e-01, -5.41211128e-01,  9.01843309e-01,\n",
       "       -4.38780010e-01, -9.79105771e-01, -4.37542111e-01, -4.89834875e-01,\n",
       "        8.87778878e-01, -1.61250472e+00,  1.29430807e+00,  8.72538805e-01,\n",
       "       -9.05189812e-01,  2.57936865e-01, -1.24897575e+00,  1.63315177e+00,\n",
       "        7.64963329e-01, -5.92103064e-01,  1.24440063e-02,  1.50458112e-01,\n",
       "       -1.08435166e+00, -3.96625608e-01, -6.56519309e-02,  1.16972160e+00,\n",
       "        9.55467522e-02, -2.17798257e+00, -1.57737088e+00,  9.59194481e-01,\n",
       "        9.53754783e-01, -1.21314895e+00,  2.51385748e-01,  7.22312510e-01,\n",
       "       -3.60879213e-01, -6.55431449e-01, -9.16702092e-01, -1.22916706e-01,\n",
       "        8.63397777e-01, -7.62348203e-03,  4.93223518e-01, -2.70112842e-01,\n",
       "       -6.70794487e-01,  1.41052201e-01, -1.16038990e+00,  2.25595450e+00,\n",
       "       -2.24498883e-01, -4.30116743e-01,  1.31337270e-01,  1.87994576e+00,\n",
       "        4.31030154e-01, -1.32489830e-01,  1.31237042e+00, -1.70376039e+00,\n",
       "       -2.45183438e-01,  2.00647246e-02, -1.25947356e-01, -3.87694716e-01,\n",
       "       -1.31560445e+00, -1.01039231e+00,  2.54176068e+00,  1.60944545e+00,\n",
       "        1.06927204e+00,  4.69646037e-01,  1.78153425e-01,  1.46135581e+00,\n",
       "        2.84726433e-02,  2.69105732e-01,  1.03361332e+00,  3.64549905e-01,\n",
       "        2.85450332e-02, -2.56396443e-01, -1.14644952e-01, -1.34647518e-01,\n",
       "       -1.58715323e-01,  1.84379423e+00, -5.29920816e-01,  1.03603387e+00,\n",
       "        1.96652019e+00,  3.78002495e-01,  4.52961996e-02,  3.14600676e-01,\n",
       "        6.77235067e-01, -9.61996496e-01, -6.04234375e-02, -1.06086850e+00,\n",
       "        1.06989086e+00,  1.50140345e+00,  5.12555003e-01,  1.61026567e-02,\n",
       "       -1.36669707e+00,  1.85165620e+00, -2.30930853e+00, -1.29069433e-01,\n",
       "       -1.81036317e+00,  8.32449675e-01, -1.14053774e+00, -2.36478615e+00,\n",
       "       -5.34226418e-01, -9.30340171e-01, -1.43236339e+00, -6.24036133e-01,\n",
       "        8.59907448e-01,  4.19846714e-01, -2.49905407e-01, -1.18003726e+00,\n",
       "       -4.45933044e-01,  3.48359704e-01, -1.10879886e+00,  2.75084227e-01,\n",
       "       -2.88405359e-01, -1.09168947e+00,  2.19696775e-01,  5.28333187e-01,\n",
       "        1.28912166e-01,  1.06431460e+00,  9.48186159e-01, -9.37374711e-01,\n",
       "        6.64275408e-01,  3.78435105e-01, -9.07272398e-01, -1.28160346e+00,\n",
       "       -1.70344806e+00, -3.72240424e-01,  3.36746365e-01,  8.21962595e-01,\n",
       "       -4.95333016e-01, -1.70456737e-01,  1.64567673e+00, -3.83753449e-01,\n",
       "       -2.46561944e-01,  2.32193664e-01, -5.94240367e-01, -2.15997982e+00,\n",
       "        1.74952435e+00, -2.39112690e-01,  2.18270898e+00,  5.69149815e-02,\n",
       "       -2.46001571e-01,  2.09011599e-01,  1.04510017e-01, -1.17548382e+00,\n",
       "       -3.99986655e-01, -6.12427592e-01, -4.62211035e-02, -9.85803068e-01,\n",
       "        8.72588038e-01,  1.35040891e+00,  2.24296045e+00, -1.85866225e+00,\n",
       "       -2.88693041e-01, -5.68277359e-01, -3.16342592e-01, -1.72250777e-01,\n",
       "        1.66479647e-02,  1.02289975e+00, -8.20117176e-01, -2.96087265e-01,\n",
       "       -1.68268919e-01,  1.16556561e+00,  1.29709393e-01, -2.02833462e+00,\n",
       "        7.78833747e-01, -3.88716757e-01, -7.26020992e-01,  7.36063719e-01,\n",
       "       -3.85740250e-01,  4.52550083e-01,  3.06036890e-01, -8.04792941e-01,\n",
       "       -7.19659984e-01, -1.78770649e+00,  1.08973980e+00,  8.35770011e-01,\n",
       "        1.24793434e+00,  6.40683770e-01,  6.94742128e-02,  1.43514812e+00,\n",
       "        8.39631036e-02, -1.14510882e+00,  1.51209040e-02, -3.45892608e-02,\n",
       "       -2.52756506e-01,  5.39141476e-01,  4.48174179e-01, -1.32046819e-01,\n",
       "       -1.53014749e-01, -1.71314108e+00,  3.80219035e-02,  1.47421575e+00,\n",
       "       -2.33846903e+00,  1.67806065e+00, -3.10409158e-01,  1.53992975e+00,\n",
       "        4.50914472e-01,  8.32167685e-01,  1.02056289e+00,  6.27601206e-01,\n",
       "       -2.00251293e+00, -5.81628680e-01,  3.23322266e-01,  3.49188387e-01,\n",
       "       -3.11286352e-03,  3.26354533e-01,  2.46068001e+00, -1.26829231e+00,\n",
       "        1.84730625e+00,  1.53057790e+00, -1.12392390e+00,  1.68252921e+00,\n",
       "        8.22710931e-01,  4.79979903e-01, -4.32817489e-01, -4.69709486e-01,\n",
       "        2.62110686e+00,  4.18284327e-01,  8.60377729e-01, -1.30347633e+00,\n",
       "       -7.40517557e-01, -2.33735234e-01, -5.60870409e-01, -2.20868647e-01,\n",
       "        3.75779485e-03, -9.78979170e-02,  8.29120874e-02,  2.07350564e+00,\n",
       "        9.97565627e-01,  2.76495606e-01,  9.98996019e-01, -9.65096593e-01,\n",
       "       -2.02764487e+00, -1.40387863e-01,  3.60466123e-01, -9.45976615e-01,\n",
       "       -1.40697253e+00, -9.94310796e-01,  1.51346773e-01,  1.03790712e+00,\n",
       "       -4.20153290e-01, -1.45566785e+00,  5.31153619e-01, -4.90743071e-01,\n",
       "       -9.73206107e-03,  4.20988023e-01, -6.31210446e-01,  1.48727953e+00,\n",
       "        3.88503104e-01, -7.23067582e-01, -3.88301671e-01,  1.30200136e+00,\n",
       "        1.25829699e-02, -4.56353545e-01, -6.95705891e-01,  1.41674912e+00,\n",
       "        9.11666870e-01, -8.09782028e-01, -8.42980668e-02,  9.46803212e-01,\n",
       "        1.42057359e-01, -9.40427125e-01, -2.19103146e+00,  2.56875724e-01,\n",
       "       -9.98592019e-01,  4.79633868e-01, -1.96957976e-01,  2.36663118e-01,\n",
       "        1.10843265e+00,  1.38899833e-01,  2.05266967e-01, -9.63448584e-01,\n",
       "        1.74415576e+00,  1.32331419e+00, -1.81515884e+00, -1.33486772e+00,\n",
       "       -2.19539836e-01, -5.12870014e-01, -5.76193988e-01,  1.32655334e+00,\n",
       "        4.49237883e-01, -2.55850643e-01, -1.96538091e-01,  9.46464956e-01,\n",
       "        1.54543579e+00,  2.31375599e+00, -4.41277176e-01,  5.77981174e-01,\n",
       "       -2.87306213e+00,  1.82242918e+00, -3.06070566e-01,  7.14409747e-04,\n",
       "       -6.63848162e-01, -6.15240693e-01,  8.21994007e-01, -7.63221979e-01,\n",
       "       -2.19433451e+00,  2.87132859e-01,  1.57335138e+00, -1.80336833e+00,\n",
       "        1.12513828e+00,  1.80815315e+00, -3.75094712e-01, -5.85681081e-01,\n",
       "       -4.57401693e-01,  1.66854978e+00,  1.57014057e-01, -1.12618661e+00,\n",
       "       -1.02528356e-01,  5.81281707e-02,  8.83954287e-01,  1.73303440e-01,\n",
       "       -6.05400056e-02,  5.23070157e-01,  9.21007037e-01, -1.33431137e+00,\n",
       "       -6.92323267e-01,  2.51890808e-01, -1.95430458e+00,  3.19980383e-01,\n",
       "        3.46757323e-01, -1.44799161e+00, -2.31441811e-01, -5.89550614e-01,\n",
       "       -6.86411709e-02, -1.07070982e+00,  3.47068697e-01,  9.73881304e-01,\n",
       "       -4.60014582e-01, -1.25787807e+00,  1.69292301e-01, -3.30468208e-01,\n",
       "       -1.15677166e+00,  3.85654420e-01, -8.05505872e-01,  1.73119295e+00,\n",
       "       -1.59070539e+00, -6.00243211e-01,  1.50834888e-01, -6.07391000e-01,\n",
       "        1.23390961e+00,  4.97073323e-01, -4.81548160e-01, -1.59993753e-01,\n",
       "       -2.23493129e-01,  1.14099371e+00,  2.36539394e-01,  4.96057756e-02,\n",
       "        1.10998356e+00, -1.67952764e+00, -5.58698595e-01,  8.33442986e-01,\n",
       "        6.27787411e-01, -3.98055375e-01,  1.96663105e+00,  2.79783785e-01,\n",
       "        1.50313354e+00,  7.28692263e-02,  6.06823683e-01,  6.95415735e-01,\n",
       "        4.70838726e-01,  1.04850769e+00,  7.36283436e-02, -1.04921746e+00,\n",
       "        1.56116828e-01,  5.09449899e-01,  2.66310394e-01,  2.24243343e-01,\n",
       "        2.09855124e-01, -4.43962902e-01, -7.93441415e-01, -9.52866852e-01,\n",
       "       -1.38409615e+00, -3.34152311e-01,  1.50986004e+00, -1.19073355e+00],\n",
       "      dtype=float32)>"
      ]
     },
     "execution_count": 18,
     "metadata": {},
     "output_type": "execute_result"
    }
   ],
   "source": [
    "B"
   ]
  },
  {
   "cell_type": "code",
   "execution_count": 20,
   "metadata": {},
   "outputs": [
    {
     "data": {
      "text/plain": [
       "<tf.Tensor: shape=(512,), dtype=float32, numpy=\n",
       "array([ 1.03994167e+00,  1.13251649e-01, -5.48286200e-01, -1.56910050e+00,\n",
       "       -3.61934841e-01,  1.93398046e+00, -5.54481149e-01, -1.21401596e+00,\n",
       "        1.50947690e+00, -1.32424980e-01, -5.28797090e-01, -1.04246783e+00,\n",
       "       -3.40024531e-01, -9.02839541e-01, -3.22343200e-01, -2.76835084e-01,\n",
       "       -1.27530086e+00, -9.86363888e-01,  1.88871905e-01,  1.09296702e-01,\n",
       "       -2.29774594e-01,  8.96023571e-01,  2.22684264e-01,  1.44190204e+00,\n",
       "       -9.20192719e-01, -1.60399187e+00, -1.61799148e-01, -2.51321584e-01,\n",
       "        2.38866940e-01,  1.53702989e-01, -1.26657200e+00, -3.87290329e-01,\n",
       "       -1.18002944e-01,  1.09494500e-01, -7.16560423e-01, -4.65261132e-01,\n",
       "       -8.26753378e-01,  7.26338550e-02, -1.00224085e-01, -2.33242363e-01,\n",
       "        6.58911943e-01,  2.82485873e-01,  1.04002631e+00,  8.30764890e-01,\n",
       "        7.79288888e-01, -7.13785350e-01, -2.97082752e-01,  8.17321241e-01,\n",
       "       -1.11146247e+00,  1.31478679e+00,  1.28161454e+00, -7.71808624e-01,\n",
       "        1.76022992e-01,  9.33649182e-01, -1.16327620e+00,  2.45240822e-01,\n",
       "       -1.11418223e+00, -1.04916310e+00, -9.75246727e-01, -1.64522970e+00,\n",
       "        1.27422237e+00, -4.58769262e-01, -2.68522441e-01, -3.15779209e-01,\n",
       "        1.01927839e-01, -9.16738033e-01, -2.84440815e-01, -1.48388076e+00,\n",
       "        6.85967386e-01, -3.23880792e-01,  6.10749900e-01,  8.43201518e-01,\n",
       "        1.11470997e+00, -1.09239674e+00, -9.79928374e-02, -4.27523106e-01,\n",
       "        1.22879438e-01, -3.51091325e-01, -7.65616000e-01,  7.79500604e-01,\n",
       "        6.44572020e-01, -8.06338668e-01, -9.20806080e-02,  7.29460344e-02,\n",
       "        2.42169827e-01,  1.03070879e+00, -1.02391577e+00,  3.82799000e-01,\n",
       "       -2.29251266e+00, -9.64125633e-01, -7.06895709e-01, -5.97532615e-02,\n",
       "       -1.05150974e+00,  9.04408932e-01,  1.36025810e+00,  1.32534698e-01,\n",
       "        7.09234238e-01, -5.56680083e-01, -7.92384803e-01,  6.31523013e-01,\n",
       "       -4.38013524e-01, -1.31907594e+00,  2.75327832e-01,  8.43698740e-01,\n",
       "       -7.44864702e-01,  9.96373408e-03, -2.42337599e-01, -6.95096314e-01,\n",
       "       -1.88475227e+00, -1.58657491e-01,  3.73332858e-01,  1.38969648e+00,\n",
       "        2.13841558e+00, -1.56655204e+00,  2.38213748e-01,  1.41497910e+00,\n",
       "        7.94706523e-01, -3.62866670e-01,  8.75762165e-01,  2.04096258e-01,\n",
       "        2.82542378e-01, -6.79582298e-01, -7.26687014e-01,  1.13373876e+00,\n",
       "        9.60732400e-01, -5.69878757e-01, -7.04942524e-01,  1.29417670e+00,\n",
       "        6.52211368e-01, -6.09788477e-01, -1.39939678e+00, -1.15688637e-01,\n",
       "       -1.71099789e-02, -8.73811543e-03, -4.31652784e-01, -5.48672140e-01,\n",
       "        1.20946772e-01,  1.51342079e-01,  8.73987377e-01,  7.40792274e-01,\n",
       "       -5.98019123e-01, -1.40342295e-01, -2.85953313e-01,  7.96264410e-01,\n",
       "        1.41825020e-01,  7.44895101e-01, -1.66573811e+00,  4.60521728e-01,\n",
       "       -1.23190916e+00,  3.63086253e-01,  1.00911808e+00, -5.12206197e-01,\n",
       "       -1.68424737e+00,  1.09709918e+00,  1.18909180e+00, -1.17752939e-01,\n",
       "        1.11153650e+00, -4.94189233e-01, -1.27171230e+00,  4.26105231e-01,\n",
       "       -5.52456081e-01, -5.30430853e-01,  5.42747796e-01,  1.73768103e-01,\n",
       "        3.40492129e-02, -1.12368532e-01,  1.76018238e+00,  1.48817945e+00,\n",
       "        9.67994094e-01, -3.96426916e-01, -9.72789824e-01, -3.82165551e-01,\n",
       "        1.01681709e+00,  1.82947135e+00,  1.56673253e-01, -5.64282954e-01,\n",
       "       -4.52271461e-01, -3.39099944e-01,  6.59842551e-01,  1.93545520e+00,\n",
       "        7.27809489e-01,  1.78351462e-01,  3.85208666e-01, -9.72584367e-01,\n",
       "       -1.12221014e+00,  1.85486656e-02, -7.59106934e-01,  1.74427104e+00,\n",
       "        8.96649301e-01,  1.55906546e+00,  1.91081792e-01,  4.58907098e-01,\n",
       "       -8.85760665e-01, -6.38871849e-01,  7.43764520e-01, -2.42176056e+00,\n",
       "        1.53826344e+00,  9.72140849e-01, -1.37597132e+00, -8.12914431e-01,\n",
       "       -1.22564149e+00,  3.17199409e-01, -6.52178228e-01, -5.84164914e-03,\n",
       "       -1.06442809e-01,  5.56263566e-01, -3.83397520e-01, -3.58052254e-01,\n",
       "       -6.15255535e-01,  1.54713023e+00,  1.69207537e+00,  3.83592397e-01,\n",
       "       -2.73146570e-01, -4.07477349e-01, -7.92062819e-01, -1.02481878e+00,\n",
       "        7.03395903e-01,  1.34786057e+00, -2.03950977e+00, -9.27678049e-01,\n",
       "        4.52781349e-01, -2.92023158e+00, -4.69708502e-01,  5.09872079e-01,\n",
       "       -1.10540164e+00, -3.67617100e-01, -3.08093727e-01, -1.36121631e+00,\n",
       "       -2.10974425e-01, -2.94883907e-01, -1.16629493e+00,  1.29784107e+00,\n",
       "       -1.18150973e+00,  5.39781153e-01,  7.21814111e-02, -1.24708283e+00,\n",
       "       -6.71979427e-01,  1.08173028e-01,  7.55005002e-01,  1.95917761e+00,\n",
       "       -4.12346810e-01, -6.00138187e-01,  1.21606386e+00,  7.06089139e-02,\n",
       "       -4.62980151e-01,  6.29133940e-01,  1.62451193e-01,  7.73519158e-01,\n",
       "        1.23245239e+00,  5.04294217e-01,  1.36670604e-01, -1.15056920e+00,\n",
       "        1.18585169e+00, -2.76193082e-01, -1.85063705e-01, -1.53589737e+00,\n",
       "        7.62499928e-01, -1.78471398e+00, -4.25423443e-01,  2.99600810e-01,\n",
       "        5.22584081e-01, -2.52893865e-01,  2.28964639e+00, -3.15338761e-01,\n",
       "        4.85966533e-01, -5.08996427e-01,  7.09689856e-01, -3.96678865e-01,\n",
       "        4.33989555e-01, -3.85004163e-01,  9.65883315e-01, -1.16572511e+00,\n",
       "       -1.15814805e+00, -5.89862704e-01,  1.27386332e+00, -2.82123387e-01,\n",
       "        1.06422150e+00,  6.08963251e-01,  1.75793290e+00,  1.08421683e+00,\n",
       "       -9.88430798e-01, -1.53211653e+00,  2.35950971e+00,  1.01204193e+00,\n",
       "       -2.06195965e-01,  4.49830145e-01, -7.08953023e-01, -1.82276142e+00,\n",
       "       -1.79423034e-01,  1.22844315e+00, -3.56381744e-01,  5.61553538e-01,\n",
       "        1.98280716e+00, -3.69085342e-01,  1.83792245e+00,  4.23998892e-01,\n",
       "       -1.05849814e+00,  5.00313565e-02,  2.94618811e-02, -1.16992486e+00,\n",
       "        1.11093688e+00,  2.44305030e-01,  2.64302313e-01,  3.89456481e-01,\n",
       "       -1.55443633e+00, -3.26347947e-01, -4.29039806e-01, -3.79527271e-01,\n",
       "        4.22852248e-01,  1.55828232e-02,  1.40277278e+00, -6.83889389e-01,\n",
       "        5.46046019e-01, -1.45485818e+00,  2.64044940e-01, -1.42164481e+00,\n",
       "       -6.54831886e-01, -2.27004546e-03, -1.62109601e+00,  1.89849660e-02,\n",
       "       -1.86296627e-01, -9.66018975e-01,  3.67304564e-01, -6.41535342e-01,\n",
       "        3.57183963e-01, -3.12501281e-01, -9.18218911e-01, -1.97250223e+00,\n",
       "       -7.03316510e-01, -1.46370411e+00, -8.63003910e-01, -3.03753555e-01,\n",
       "        5.19896686e-01, -1.80585873e+00, -5.87857246e-01, -1.67120743e+00,\n",
       "       -9.06372249e-01,  1.61328828e+00, -6.18054748e-01,  1.68599331e+00,\n",
       "       -1.43246919e-01,  1.17965162e+00,  3.16425383e-01, -1.47045958e+00,\n",
       "        2.87259191e-01,  1.47092789e-01, -1.13532221e+00,  2.48410836e-01,\n",
       "       -1.38586044e+00, -4.23147678e-01,  8.63880634e-01, -1.18916225e+00,\n",
       "       -1.31844088e-01,  2.67407155e+00,  4.11096126e-01,  9.03332591e-01,\n",
       "       -3.80462319e-01,  1.72997284e+00, -8.71715173e-02,  2.48292178e-01,\n",
       "        1.26276684e+00, -5.74032106e-02,  8.96226466e-01,  9.89061356e-01,\n",
       "       -3.42405319e-01, -1.34415531e+00,  5.20941019e-01, -4.35073018e-01,\n",
       "       -4.20900017e-01, -1.61628634e-01, -5.19447923e-01,  1.25503659e+00,\n",
       "        4.69602734e-01,  1.12472069e+00, -2.26027441e+00, -1.01482260e+00,\n",
       "        1.87032247e+00,  2.01492056e-01, -1.01771545e+00,  2.06629109e+00,\n",
       "        1.12755561e+00,  7.87946761e-01, -1.94363296e-01,  1.68657556e-01,\n",
       "        1.55631196e+00, -5.65307200e-01, -1.05580819e+00,  3.43493298e-02,\n",
       "       -4.65508223e-01,  1.23917651e+00,  4.94806230e-01, -5.51827013e-01,\n",
       "       -3.15003365e-01,  1.99682808e+00, -3.79187673e-01,  7.02281952e-01,\n",
       "       -4.47134972e-01, -6.42257035e-01, -4.52726722e-01,  3.61756265e-01,\n",
       "        6.09758556e-01,  2.19361305e-01, -1.19246855e-01, -9.44456160e-02,\n",
       "        1.22451775e-01, -2.06485105e+00, -5.18859565e-01, -4.57105547e-01,\n",
       "        3.13855499e-01,  4.45359856e-01,  2.25177550e+00,  1.69845462e+00,\n",
       "        1.13912411e-01, -4.97994751e-01,  1.80416119e+00,  8.82427096e-02,\n",
       "        1.47085428e+00, -4.17343199e-01, -6.02365471e-02,  1.31836998e+00,\n",
       "        1.12418383e-01,  1.04211785e-01,  1.79738295e+00,  1.40629947e+00,\n",
       "        3.22862446e-01,  1.45350814e-01, -5.25942922e-01, -4.91499215e-01,\n",
       "        1.37915974e-02,  5.95918715e-01, -1.13436437e+00,  6.10173225e-01,\n",
       "       -1.31043506e+00,  1.44962752e+00, -2.08519563e-01,  1.44042969e+00,\n",
       "       -4.22446758e-01, -9.23830867e-01,  4.77835257e-03,  1.59967506e+00,\n",
       "        2.79393268e+00,  2.15898320e-01, -6.63744628e-01, -6.88344315e-02,\n",
       "       -1.12512529e+00, -1.21029055e+00,  3.15434664e-01,  2.83161610e-01,\n",
       "       -6.79614186e-01,  1.13384992e-01,  3.13400984e-01,  4.87997949e-01,\n",
       "        7.72067130e-01,  3.17090005e-01, -8.33242953e-01, -1.29632676e+00,\n",
       "        6.29064441e-01, -6.01112843e-01, -2.09864736e-01,  1.15003216e+00,\n",
       "        5.21298707e-01, -1.02477312e+00,  9.74774122e-01,  1.25360858e+00,\n",
       "       -6.48020387e-01, -9.11770463e-01, -2.70354962e+00,  1.62428367e+00,\n",
       "        1.20831597e+00, -2.77731359e-01,  7.64173269e-01, -7.69812524e-01,\n",
       "       -1.11885214e+00, -1.01598155e+00, -1.76117361e+00,  3.85728598e-01,\n",
       "        2.08480549e+00,  1.57849979e+00, -4.03068632e-01,  1.22407603e+00,\n",
       "        7.75477052e-01,  2.13463202e-01, -2.45339632e-01,  3.79929364e-01,\n",
       "       -5.99179208e-01, -6.66071773e-01,  2.29324579e-01,  1.00708287e-02,\n",
       "       -4.41474915e-01,  2.01939893e+00, -1.21332669e+00, -1.34880826e-01,\n",
       "       -3.58494043e-01, -2.94647306e-01, -4.00732189e-01,  1.46018445e+00,\n",
       "        1.87013435e+00, -1.59326386e+00, -5.02363503e-01,  7.61612713e-01,\n",
       "        3.15827012e-01,  2.48585846e-02, -3.14646333e-01,  4.17441279e-01,\n",
       "        1.04600322e+00,  2.09599853e+00,  7.92063624e-02, -4.10275728e-01,\n",
       "       -1.39367163e+00,  1.87832311e-01, -1.05673969e+00,  1.10229039e+00],\n",
       "      dtype=float32)>"
      ]
     },
     "execution_count": 20,
     "metadata": {},
     "output_type": "execute_result"
    }
   ],
   "source": [
    "Z"
   ]
  },
  {
   "cell_type": "code",
   "execution_count": 1,
   "metadata": {},
   "outputs": [],
   "source": [
    "import tensorflow as tf"
   ]
  },
  {
   "cell_type": "code",
   "execution_count": 3,
   "metadata": {},
   "outputs": [],
   "source": [
    "x = tf.random.normal(shape=(10,10))\n",
    "with tf.GradientTape() as tape:\n",
    "    z = x - tf.stop_gradient(tf.reduce_max(x))\n",
    "    numerator = tf.exp(z)\n",
    "    denominator = tf.reduce_sum(numerator)"
   ]
  },
  {
   "cell_type": "code",
   "execution_count": 8,
   "metadata": {},
   "outputs": [
    {
     "data": {
      "text/plain": [
       "<tf.Tensor: shape=(10, 64), dtype=float32, numpy=\n",
       "array([[1.6780365e-01, 1.4497559e+00, 2.0819416e+00, 1.3370723e-01,\n",
       "        0.0000000e+00, 1.0008388e+00, 1.4094440e+00, 4.3691474e-01,\n",
       "        1.3303519e+00, 5.4490352e-01, 3.1975734e+00, 0.0000000e+00,\n",
       "        6.9014806e-01, 2.9868999e+00, 1.5642464e+00, 1.4896836e+00,\n",
       "        6.2565863e-01, 1.4069444e+00, 2.0657673e+00, 4.6452498e-01,\n",
       "        5.0686336e-01, 0.0000000e+00, 4.5236725e-01, 9.4055593e-01,\n",
       "        1.8335438e+00, 1.9231564e-01, 9.6628255e-01, 3.7469089e-01,\n",
       "        1.0815090e+00, 1.6762240e+00, 2.3381279e+00, 1.4212626e-01,\n",
       "        2.4654453e+00, 1.3514174e+00, 1.4916511e+00, 1.4288146e+00,\n",
       "        7.7951080e-01, 7.1608806e-01, 8.3222699e-01, 6.8725574e-01,\n",
       "        0.0000000e+00, 1.1988063e+00, 2.3333806e-01, 9.8818058e-01,\n",
       "        1.2337661e+00, 1.0242751e+00, 5.2495003e-01, 1.1918920e+00,\n",
       "        2.5862141e+00, 7.1473992e-01, 1.3453621e+00, 0.0000000e+00,\n",
       "        3.0128360e-02, 3.3553517e-01, 2.1029294e+00, 0.0000000e+00,\n",
       "        1.5594763e-01, 2.1348896e+00, 1.2726542e+00, 0.0000000e+00,\n",
       "        2.1351662e+00, 3.0889827e-01, 5.4329991e-02, 1.2413069e+00],\n",
       "       [1.0076259e+00, 6.0912281e-01, 2.7788895e-01, 2.6690993e+00,\n",
       "        2.3805022e+00, 4.4154680e-01, 1.7268500e+00, 1.1110424e+00,\n",
       "        5.2872860e-01, 1.2661049e+00, 0.0000000e+00, 1.9432933e+00,\n",
       "        1.9253180e+00, 3.0583189e+00, 2.5537193e+00, 1.0670340e+00,\n",
       "        0.0000000e+00, 1.2865642e+00, 1.9855156e+00, 2.0654862e+00,\n",
       "        1.7836709e+00, 7.7999055e-02, 1.1421578e+00, 1.9351453e+00,\n",
       "        1.4956045e+00, 1.3236189e+00, 9.0320331e-01, 4.6369272e-01,\n",
       "        1.7726285e+00, 2.0119548e-03, 4.3339670e-02, 2.6686794e-01,\n",
       "        2.2194152e+00, 2.4345279e+00, 1.1236870e+00, 1.7890060e+00,\n",
       "        1.2828677e+00, 4.4466233e-01, 2.0424762e+00, 1.0127306e+00,\n",
       "        1.0442607e+00, 1.8012524e-04, 3.4931284e-01, 5.0776327e-01,\n",
       "        2.3094077e+00, 1.8109217e+00, 2.6772771e+00, 1.5943708e+00,\n",
       "        1.5156641e+00, 3.3026010e-01, 1.1668861e+00, 0.0000000e+00,\n",
       "        1.7456080e+00, 1.7087864e+00, 2.2349448e+00, 2.1342301e+00,\n",
       "        1.8906605e+00, 2.1060433e+00, 3.6116052e-01, 1.0585338e+00,\n",
       "        1.2517456e+00, 1.3012207e+00, 1.1035022e+00, 1.4344082e+00],\n",
       "       [4.9133104e-01, 1.2653445e+00, 1.0171113e+00, 1.0545896e+00,\n",
       "        1.4620453e+00, 1.4922351e+00, 1.8869174e-01, 9.3718535e-01,\n",
       "        7.8552890e-01, 0.0000000e+00, 1.7244391e+00, 1.1043816e+00,\n",
       "        4.3642157e-01, 1.0914841e+00, 5.5225551e-01, 0.0000000e+00,\n",
       "        3.2486618e+00, 1.5618949e+00, 9.2237747e-01, 9.8817933e-01,\n",
       "        2.2833681e-01, 1.1399541e+00, 9.1587269e-01, 2.0559099e+00,\n",
       "        2.0608222e+00, 1.4417789e+00, 7.9994440e-01, 2.2217917e+00,\n",
       "        1.8595387e+00, 5.2074492e-01, 2.9566967e+00, 1.9476291e+00,\n",
       "        2.0641136e+00, 1.8775592e+00, 1.7270491e+00, 1.8891734e+00,\n",
       "        2.8939595e+00, 0.0000000e+00, 1.4760661e+00, 3.0861032e-01,\n",
       "        2.0869479e+00, 0.0000000e+00, 1.6576430e+00, 0.0000000e+00,\n",
       "        1.3673732e+00, 0.0000000e+00, 1.3226234e+00, 1.0546483e+00,\n",
       "        1.0545924e+00, 9.3014628e-01, 1.9675941e+00, 7.7427143e-01,\n",
       "        1.8884499e+00, 1.1825206e+00, 5.0823724e-01, 7.2501576e-01,\n",
       "        3.6476624e-01, 0.0000000e+00, 6.6554612e-01, 3.6837792e-01,\n",
       "        1.3373430e+00, 0.0000000e+00, 0.0000000e+00, 8.5857463e-01],\n",
       "       [6.7775404e-01, 1.0150256e+00, 1.9134758e+00, 1.7740226e-01,\n",
       "        1.5331228e+00, 1.6772418e+00, 2.6775792e+00, 0.0000000e+00,\n",
       "        0.0000000e+00, 1.7520654e+00, 1.1741008e+00, 0.0000000e+00,\n",
       "        2.9343958e+00, 9.9055463e-01, 1.1349580e+00, 1.0881277e+00,\n",
       "        0.0000000e+00, 4.8876137e-01, 1.5574187e-01, 2.2352653e+00,\n",
       "        1.2635649e+00, 1.9026682e+00, 5.5767369e-01, 1.2439102e+00,\n",
       "        7.8941095e-01, 6.8865108e-01, 1.4588259e+00, 0.0000000e+00,\n",
       "        1.3777397e+00, 1.5020349e+00, 0.0000000e+00, 1.3132131e+00,\n",
       "        6.0967159e-01, 0.0000000e+00, 2.6439452e+00, 0.0000000e+00,\n",
       "        9.0778053e-01, 3.8970110e+00, 8.6781096e-01, 2.0412035e+00,\n",
       "        2.3501009e-01, 6.3677704e-01, 6.5337360e-01, 1.1930426e+00,\n",
       "        3.0391214e+00, 2.3331985e+00, 1.4090359e+00, 2.2445643e-01,\n",
       "        1.6805527e+00, 1.7682681e+00, 3.0371709e+00, 1.2406178e+00,\n",
       "        7.2161722e-01, 0.0000000e+00, 1.3167949e+00, 2.2872820e+00,\n",
       "        4.4882834e-01, 1.1678915e+00, 1.4081310e+00, 0.0000000e+00,\n",
       "        4.8676008e-01, 8.1162965e-01, 1.4232593e+00, 4.0469319e-01],\n",
       "       [0.0000000e+00, 2.4310005e+00, 1.9063735e+00, 1.6348317e+00,\n",
       "        1.9276012e+00, 1.4123847e+00, 2.2528100e+00, 1.7258251e+00,\n",
       "        4.6749985e-01, 8.3637363e-01, 2.1442432e+00, 7.4333620e-01,\n",
       "        1.0694580e+00, 1.1192013e+00, 2.2210529e+00, 1.3899481e+00,\n",
       "        7.2278476e-01, 1.1130341e+00, 2.8506333e-01, 8.3920699e-01,\n",
       "        0.0000000e+00, 1.0984365e+00, 2.1740637e+00, 6.8645144e-01,\n",
       "        3.3050841e-01, 6.1142802e-02, 1.9349164e+00, 1.5461376e+00,\n",
       "        2.7035613e+00, 4.1353846e-01, 1.3295262e+00, 0.0000000e+00,\n",
       "        2.1005630e-01, 9.0345263e-01, 0.0000000e+00, 7.1137857e-01,\n",
       "        1.3686612e+00, 2.8572078e+00, 0.0000000e+00, 1.1312282e-01,\n",
       "        9.1360605e-01, 3.3691335e-01, 3.4693426e-01, 0.0000000e+00,\n",
       "        8.8744104e-01, 8.1561303e-01, 1.1893785e-01, 2.8812087e+00,\n",
       "        1.9295487e+00, 2.9651237e-01, 4.5728254e-01, 2.6873574e+00,\n",
       "        9.7451884e-01, 1.8777666e+00, 9.7296429e-01, 1.8162603e+00,\n",
       "        1.1468679e+00, 1.5995405e+00, 9.0233058e-01, 2.7742336e+00,\n",
       "        0.0000000e+00, 1.3618125e+00, 9.4246399e-01, 2.3819499e+00],\n",
       "       [0.0000000e+00, 0.0000000e+00, 7.6679993e-01, 7.0296508e-01,\n",
       "        5.8957016e-01, 1.1343954e+00, 3.6561972e-01, 8.9230430e-01,\n",
       "        2.7563820e+00, 7.0703626e-01, 8.8504016e-01, 0.0000000e+00,\n",
       "        2.3399076e+00, 1.8030596e-01, 7.7994454e-01, 1.0647240e+00,\n",
       "        0.0000000e+00, 5.5216134e-01, 1.5657945e+00, 1.3316805e+00,\n",
       "        1.8027173e+00, 1.9538703e+00, 2.2214717e-01, 9.9085408e-01,\n",
       "        1.3039887e-02, 1.1650997e+00, 9.5667166e-01, 1.5586233e-01,\n",
       "        8.1084597e-01, 2.8101826e+00, 0.0000000e+00, 1.6623335e+00,\n",
       "        1.6913397e+00, 2.4740336e+00, 1.0070289e+00, 8.3948648e-01,\n",
       "        2.0353501e+00, 1.2191585e+00, 7.5735879e-01, 1.7854321e+00,\n",
       "        1.1808200e+00, 5.9503520e-01, 1.0218085e+00, 0.0000000e+00,\n",
       "        1.1439675e+00, 4.5049769e-01, 1.2524760e+00, 1.2671570e+00,\n",
       "        2.0754271e+00, 1.2650979e-01, 1.7158413e-01, 6.2918490e-01,\n",
       "        0.0000000e+00, 8.4351087e-01, 0.0000000e+00, 1.7943497e+00,\n",
       "        1.1120442e+00, 0.0000000e+00, 0.0000000e+00, 1.7735436e+00,\n",
       "        0.0000000e+00, 1.3764579e+00, 0.0000000e+00, 0.0000000e+00],\n",
       "       [0.0000000e+00, 4.8745275e-02, 1.6173497e+00, 4.7990090e-01,\n",
       "        1.2698069e+00, 3.3168828e-01, 3.1284268e+00, 3.6683166e-01,\n",
       "        1.5886074e-01, 1.2738340e+00, 3.6584145e-01, 9.0787727e-01,\n",
       "        2.6308990e+00, 2.2070179e+00, 5.5056673e-01, 7.7341133e-01,\n",
       "        1.8819065e+00, 0.0000000e+00, 2.8951552e+00, 6.6696131e-01,\n",
       "        0.0000000e+00, 0.0000000e+00, 1.5975096e+00, 1.8165348e+00,\n",
       "        0.0000000e+00, 1.9284718e+00, 3.7995058e-01, 9.8593992e-01,\n",
       "        1.8886068e+00, 0.0000000e+00, 6.6042721e-01, 1.3928825e-01,\n",
       "        8.4337729e-01, 5.5189985e-01, 1.3909483e+00, 8.4525907e-01,\n",
       "        3.0625112e+00, 3.1586444e-01, 1.2586623e+00, 8.8627660e-01,\n",
       "        2.8718064e+00, 1.0032618e-01, 0.0000000e+00, 4.3729168e-01,\n",
       "        7.9255110e-01, 1.0277216e+00, 2.2553244e+00, 5.4730242e-01,\n",
       "        8.7042832e-01, 9.5301121e-01, 0.0000000e+00, 2.7548449e+00,\n",
       "        0.0000000e+00, 3.4193473e+00, 1.5994242e+00, 0.0000000e+00,\n",
       "        9.5487952e-01, 2.1690116e+00, 9.4473946e-01, 7.2116613e-02,\n",
       "        1.6592026e+00, 0.0000000e+00, 1.6705570e+00, 3.4587011e+00],\n",
       "       [8.4613669e-01, 1.5297065e+00, 2.0726810e+00, 3.2956922e-01,\n",
       "        8.3212864e-01, 1.3748199e-01, 1.9084591e-01, 1.1569600e+00,\n",
       "        2.2530146e+00, 1.9654194e+00, 0.0000000e+00, 1.4300873e+00,\n",
       "        6.5729445e-01, 0.0000000e+00, 2.4409199e+00, 1.6480992e+00,\n",
       "        1.3214920e+00, 1.4044982e-01, 1.6932425e+00, 1.2747328e+00,\n",
       "        1.7729480e+00, 0.0000000e+00, 7.4967647e-01, 4.8397183e-01,\n",
       "        3.9800495e-01, 2.4534655e-01, 1.3164414e+00, 0.0000000e+00,\n",
       "        1.8704159e+00, 1.4739180e+00, 5.5189252e-01, 1.2054859e+00,\n",
       "        4.9812949e-01, 5.2219105e-01, 2.1535120e+00, 1.9599075e+00,\n",
       "        2.7409527e+00, 1.8741835e+00, 2.7204976e+00, 1.6342947e+00,\n",
       "        0.0000000e+00, 2.0517027e+00, 8.6111045e-01, 2.3509536e+00,\n",
       "        1.9895858e-01, 1.2122253e+00, 1.1145167e+00, 1.8143270e+00,\n",
       "        1.8526001e+00, 9.6869731e-01, 2.1744049e+00, 1.0439525e+00,\n",
       "        1.2065886e+00, 7.8491390e-01, 1.8413477e+00, 1.3240687e+00,\n",
       "        7.7907079e-01, 0.0000000e+00, 1.3928707e+00, 6.1447072e-01,\n",
       "        3.5258591e+00, 1.6784790e+00, 2.8126483e+00, 2.8569680e-01],\n",
       "       [0.0000000e+00, 0.0000000e+00, 1.4671917e+00, 3.7089765e-01,\n",
       "        1.7640376e+00, 0.0000000e+00, 0.0000000e+00, 8.7865001e-01,\n",
       "        3.9374888e-02, 1.5100589e+00, 1.0094966e+00, 7.2237039e-01,\n",
       "        6.2526107e-01, 1.8783300e+00, 0.0000000e+00, 9.2882454e-01,\n",
       "        9.7553557e-01, 2.6361704e+00, 8.5454732e-01, 2.1162543e+00,\n",
       "        1.6624951e+00, 2.7118073e+00, 1.4289445e-01, 1.9663696e+00,\n",
       "        0.0000000e+00, 9.0556419e-01, 0.0000000e+00, 1.4832494e+00,\n",
       "        3.2583086e+00, 8.5266095e-01, 5.6162965e-01, 2.6502388e+00,\n",
       "        3.5477751e-01, 2.3842943e-01, 1.1988639e+00, 0.0000000e+00,\n",
       "        1.8745115e+00, 4.6702796e-01, 8.7388545e-01, 1.8694477e+00,\n",
       "        1.8650475e+00, 1.1825473e+00, 1.0237359e+00, 3.8391370e-01,\n",
       "        1.9460559e+00, 0.0000000e+00, 1.4948437e+00, 1.9936802e+00,\n",
       "        3.2061332e-01, 1.4472545e+00, 1.9361032e+00, 1.5626192e+00,\n",
       "        2.3425176e+00, 7.0763195e-01, 1.3218626e+00, 1.1139008e+00,\n",
       "        2.1813428e-01, 1.2951647e+00, 1.9080932e+00, 2.9914002e+00,\n",
       "        1.0742143e+00, 2.9048216e-01, 1.6361730e+00, 0.0000000e+00],\n",
       "       [6.6743386e-01, 9.8715818e-01, 1.9493973e+00, 9.3549699e-01,\n",
       "        0.0000000e+00, 1.8624935e+00, 1.6299244e+00, 7.6152873e-01,\n",
       "        0.0000000e+00, 1.7416509e+00, 1.3134629e+00, 0.0000000e+00,\n",
       "        2.2569017e+00, 1.7483085e-01, 1.5532647e+00, 1.4386451e+00,\n",
       "        1.4070826e+00, 1.5731925e-01, 1.8152750e+00, 1.6211452e+00,\n",
       "        2.5353637e+00, 0.0000000e+00, 1.1016617e+00, 1.7840873e+00,\n",
       "        9.2307681e-01, 9.3523026e-01, 5.9585559e-01, 2.4360566e+00,\n",
       "        8.3856440e-01, 6.5294611e-01, 1.6974723e+00, 2.3041153e+00,\n",
       "        1.2279010e-01, 1.7961296e+00, 2.4505086e+00, 7.5573200e-01,\n",
       "        0.0000000e+00, 2.0745306e+00, 1.7054799e+00, 4.0500081e-01,\n",
       "        0.0000000e+00, 0.0000000e+00, 1.0193270e+00, 9.4942504e-01,\n",
       "        5.6888819e-02, 2.8956342e-01, 6.2094390e-02, 3.4268618e-01,\n",
       "        0.0000000e+00, 1.4144158e+00, 2.9962552e+00, 6.8056810e-01,\n",
       "        1.7094841e+00, 0.0000000e+00, 8.1576639e-01, 0.0000000e+00,\n",
       "        1.4531077e+00, 1.0468506e+00, 4.3807846e-01, 1.4720898e+00,\n",
       "        0.0000000e+00, 6.6548640e-01, 0.0000000e+00, 1.6289032e+00]],\n",
       "      dtype=float32)>"
      ]
     },
     "execution_count": 8,
     "metadata": {},
     "output_type": "execute_result"
    }
   ],
   "source": [
    "A = tf.random.normal(shape=(10, 64))\n",
    "tf.maximum(0, 1-A)"
   ]
  },
  {
   "cell_type": "code",
   "execution_count": 9,
   "metadata": {},
   "outputs": [
    {
     "data": {
      "text/plain": [
       "<tf.Tensor: shape=(10, 64), dtype=float32, numpy=\n",
       "array([[ 8.32196355e-01, -4.49755937e-01, -1.08194172e+00,\n",
       "         8.66292775e-01,  1.00801575e+00, -8.38794862e-04,\n",
       "        -4.09444004e-01,  5.63085258e-01, -3.30351979e-01,\n",
       "         4.55096453e-01, -2.19757342e+00,  1.32321882e+00,\n",
       "         3.09851944e-01, -1.98689997e+00, -5.64246476e-01,\n",
       "        -4.89683628e-01,  3.74341369e-01, -4.06944424e-01,\n",
       "        -1.06576717e+00,  5.35475016e-01,  4.93136674e-01,\n",
       "         2.26755261e+00,  5.47632754e-01,  5.94440587e-02,\n",
       "        -8.33543777e-01,  8.07684362e-01,  3.37174535e-02,\n",
       "         6.25309110e-01, -8.15090090e-02, -6.76223934e-01,\n",
       "        -1.33812785e+00,  8.57873738e-01, -1.46544528e+00,\n",
       "        -3.51417422e-01, -4.91651058e-01, -4.28814590e-01,\n",
       "         2.20489189e-01,  2.83911973e-01,  1.67772979e-01,\n",
       "         3.12744290e-01,  1.70267332e+00, -1.98806256e-01,\n",
       "         7.66661942e-01,  1.18194167e-02, -2.33766064e-01,\n",
       "        -2.42750999e-02,  4.75049973e-01, -1.91892013e-01,\n",
       "        -1.58621407e+00,  2.85260111e-01, -3.45362097e-01,\n",
       "         1.06743908e+00,  9.69871640e-01,  6.64464831e-01,\n",
       "        -1.10292935e+00,  1.13535583e+00,  8.44052374e-01,\n",
       "        -1.13488960e+00, -2.72654146e-01,  1.16000974e+00,\n",
       "        -1.13516605e+00,  6.91101730e-01,  9.45670009e-01,\n",
       "        -2.41306901e-01],\n",
       "       [-7.62589974e-03,  3.90877187e-01,  7.22111046e-01,\n",
       "        -1.66909945e+00, -1.38050210e+00,  5.58453202e-01,\n",
       "        -7.26850092e-01, -1.11042358e-01,  4.71271366e-01,\n",
       "        -2.66104937e-01,  2.36123133e+00, -9.43293273e-01,\n",
       "        -9.25318062e-01, -2.05831885e+00, -1.55371928e+00,\n",
       "        -6.70340583e-02,  1.64151633e+00, -2.86564261e-01,\n",
       "        -9.85515535e-01, -1.06548619e+00, -7.83670962e-01,\n",
       "         9.22000945e-01, -1.42157838e-01, -9.35145259e-01,\n",
       "        -4.95604515e-01, -3.23618889e-01,  9.67966691e-02,\n",
       "         5.36307275e-01, -7.72628486e-01,  9.97988045e-01,\n",
       "         9.56660330e-01,  7.33132064e-01, -1.21941507e+00,\n",
       "        -1.43452775e+00, -1.23687074e-01, -7.89005935e-01,\n",
       "        -2.82867640e-01,  5.55337667e-01, -1.04247606e+00,\n",
       "        -1.27306320e-02, -4.42607328e-02,  9.99819875e-01,\n",
       "         6.50687158e-01,  4.92236733e-01, -1.30940759e+00,\n",
       "        -8.10921669e-01, -1.67727709e+00, -5.94370782e-01,\n",
       "        -5.15664160e-01,  6.69739902e-01, -1.66886091e-01,\n",
       "         1.30860865e+00, -7.45607972e-01, -7.08786368e-01,\n",
       "        -1.23494494e+00, -1.13423026e+00, -8.90660524e-01,\n",
       "        -1.10604334e+00,  6.38839483e-01, -5.85337617e-02,\n",
       "        -2.51745582e-01, -3.01220626e-01, -1.03502132e-01,\n",
       "        -4.34408158e-01],\n",
       "       [ 5.08668959e-01, -2.65344530e-01, -1.71112977e-02,\n",
       "        -5.45896441e-02, -4.62045312e-01, -4.92235065e-01,\n",
       "         8.11308265e-01,  6.28146529e-02,  2.14471132e-01,\n",
       "         1.22228861e+00, -7.24439085e-01, -1.04381584e-01,\n",
       "         5.63578427e-01, -9.14840326e-02,  4.47744459e-01,\n",
       "         1.12686801e+00, -2.24866176e+00, -5.61894834e-01,\n",
       "         7.76225105e-02,  1.18207000e-02,  7.71663189e-01,\n",
       "        -1.39954120e-01,  8.41273218e-02, -1.05590987e+00,\n",
       "        -1.06082225e+00, -4.41778958e-01,  2.00055599e-01,\n",
       "        -1.22179174e+00, -8.59538674e-01,  4.79255050e-01,\n",
       "        -1.95669675e+00, -9.47629094e-01, -1.06411374e+00,\n",
       "        -8.77559185e-01, -7.27049172e-01, -8.89173388e-01,\n",
       "        -1.89395952e+00,  1.01798308e+00, -4.76066053e-01,\n",
       "         6.91389680e-01, -1.08694804e+00,  2.13292098e+00,\n",
       "        -6.57642961e-01,  1.36833930e+00, -3.67373258e-01,\n",
       "         1.68323505e+00, -3.22623372e-01, -5.46483286e-02,\n",
       "        -5.45923933e-02,  6.98537380e-02, -9.67594206e-01,\n",
       "         2.25728586e-01, -8.88449848e-01, -1.82520628e-01,\n",
       "         4.91762757e-01,  2.74984241e-01,  6.35233760e-01,\n",
       "         2.07264495e+00,  3.34453881e-01,  6.31622076e-01,\n",
       "        -3.37342948e-01,  1.59534192e+00,  1.06679499e+00,\n",
       "         1.41425386e-01],\n",
       "       [ 3.22245985e-01, -1.50255887e-02, -9.13475811e-01,\n",
       "         8.22597742e-01, -5.33122838e-01, -6.77241862e-01,\n",
       "        -1.67757916e+00,  1.28614163e+00,  1.63842833e+00,\n",
       "        -7.52065480e-01, -1.74100801e-01,  1.41480720e+00,\n",
       "        -1.93439579e+00,  9.44538973e-03, -1.34957999e-01,\n",
       "        -8.81277472e-02,  1.65171599e+00,  5.11238635e-01,\n",
       "         8.44258130e-01, -1.23526525e+00, -2.63564914e-01,\n",
       "        -9.02668178e-01,  4.42326277e-01, -2.43910238e-01,\n",
       "         2.10589081e-01,  3.11348915e-01, -4.58825946e-01,\n",
       "         1.49800241e+00, -3.77739698e-01, -5.02034903e-01,\n",
       "         1.17499530e+00, -3.13213110e-01,  3.90328377e-01,\n",
       "         2.07000422e+00, -1.64394510e+00,  1.52172828e+00,\n",
       "         9.22194645e-02, -2.89701104e+00,  1.32189050e-01,\n",
       "        -1.04120338e+00,  7.64989913e-01,  3.63222957e-01,\n",
       "         3.46626431e-01, -1.93042636e-01, -2.03912139e+00,\n",
       "        -1.33319843e+00, -4.09035861e-01,  7.75543571e-01,\n",
       "        -6.80552721e-01, -7.68268049e-01, -2.03717089e+00,\n",
       "        -2.40617707e-01,  2.78382748e-01,  1.31719220e+00,\n",
       "        -3.16794872e-01, -1.28728187e+00,  5.51171660e-01,\n",
       "        -1.67891473e-01, -4.08131033e-01,  1.09200346e+00,\n",
       "         5.13239920e-01,  1.88370347e-01, -4.23259288e-01,\n",
       "         5.95306814e-01],\n",
       "       [ 1.66172397e+00, -1.43100047e+00, -9.06373441e-01,\n",
       "        -6.34831667e-01, -9.27601218e-01, -4.12384778e-01,\n",
       "        -1.25280988e+00, -7.25825071e-01,  5.32500148e-01,\n",
       "         1.63626373e-01, -1.14424324e+00,  2.56663769e-01,\n",
       "        -6.94579706e-02, -1.19201273e-01, -1.22105289e+00,\n",
       "        -3.89948130e-01,  2.77215213e-01, -1.13034114e-01,\n",
       "         7.14936674e-01,  1.60793006e-01,  1.47157300e+00,\n",
       "        -9.84365121e-02, -1.17406380e+00,  3.13548535e-01,\n",
       "         6.69491589e-01,  9.38857198e-01, -9.34916377e-01,\n",
       "        -5.46137512e-01, -1.70356143e+00,  5.86461544e-01,\n",
       "        -3.29526216e-01,  1.48317981e+00,  7.89943695e-01,\n",
       "         9.65473652e-02,  1.82085669e+00,  2.88621455e-01,\n",
       "        -3.68661106e-01, -1.85720789e+00,  1.18398750e+00,\n",
       "         8.86877179e-01,  8.63939226e-02,  6.63086653e-01,\n",
       "         6.53065741e-01,  1.34940803e+00,  1.12558976e-01,\n",
       "         1.84386939e-01,  8.81062150e-01, -1.88120866e+00,\n",
       "        -9.29548740e-01,  7.03487635e-01,  5.42717457e-01,\n",
       "        -1.68735731e+00,  2.54811831e-02, -8.77766609e-01,\n",
       "         2.70357188e-02, -8.16260278e-01, -1.46867901e-01,\n",
       "        -5.99540412e-01,  9.76694450e-02, -1.77423358e+00,\n",
       "         2.03885508e+00, -3.61812443e-01,  5.75360283e-02,\n",
       "        -1.38194990e+00],\n",
       "       [ 1.06218636e+00,  1.85836387e+00,  2.33200088e-01,\n",
       "         2.97034919e-01,  4.10429835e-01, -1.34395361e-01,\n",
       "         6.34380281e-01,  1.07695691e-01, -1.75638211e+00,\n",
       "         2.92963773e-01,  1.14959814e-01,  1.46535599e+00,\n",
       "        -1.33990765e+00,  8.19694042e-01,  2.20055431e-01,\n",
       "        -6.47239760e-02,  1.39081955e+00,  4.47838634e-01,\n",
       "        -5.65794468e-01, -3.31680596e-01, -8.02717328e-01,\n",
       "        -9.53870237e-01,  7.77852833e-01,  9.14589409e-03,\n",
       "         9.86960113e-01, -1.65099695e-01,  4.33283225e-02,\n",
       "         8.44137669e-01,  1.89154014e-01, -1.81018245e+00,\n",
       "         1.61265647e+00, -6.62333429e-01, -6.91339731e-01,\n",
       "        -1.47403359e+00, -7.02888472e-03,  1.60513505e-01,\n",
       "        -1.03535008e+00, -2.19158575e-01,  2.42641211e-01,\n",
       "        -7.85432041e-01, -1.80819929e-01,  4.04964775e-01,\n",
       "        -2.18085181e-02,  1.43362939e+00, -1.43967465e-01,\n",
       "         5.49502313e-01, -2.52475917e-01, -2.67156988e-01,\n",
       "        -1.07542694e+00,  8.73490214e-01,  8.28415871e-01,\n",
       "         3.70815098e-01,  1.46820176e+00,  1.56489119e-01,\n",
       "         1.05207920e+00, -7.94349670e-01, -1.12044185e-01,\n",
       "         1.00589514e+00,  2.40550566e+00, -7.73543656e-01,\n",
       "         1.11061263e+00, -3.76457959e-01,  1.45719290e+00,\n",
       "         1.70159435e+00],\n",
       "       [ 1.33555353e+00,  9.51254725e-01, -6.17349744e-01,\n",
       "         5.20099103e-01, -2.69806802e-01,  6.68311715e-01,\n",
       "        -2.12842679e+00,  6.33168340e-01,  8.41139257e-01,\n",
       "        -2.73833960e-01,  6.34158552e-01,  9.21227336e-02,\n",
       "        -1.63089907e+00, -1.20701778e+00,  4.49433267e-01,\n",
       "         2.26588681e-01, -8.81906450e-01,  1.13611543e+00,\n",
       "        -1.89515519e+00,  3.33038688e-01,  1.29258943e+00,\n",
       "         1.66880000e+00, -5.97509563e-01, -8.16534817e-01,\n",
       "         2.00267529e+00, -9.28471744e-01,  6.20049417e-01,\n",
       "         1.40601043e-02, -8.88606727e-01,  1.49344873e+00,\n",
       "         3.39572787e-01,  8.60711753e-01,  1.56622723e-01,\n",
       "         4.48100150e-01, -3.90948355e-01,  1.54740900e-01,\n",
       "        -2.06251121e+00,  6.84135556e-01, -2.58662313e-01,\n",
       "         1.13723405e-01, -1.87180638e+00,  8.99673820e-01,\n",
       "         1.29378986e+00,  5.62708318e-01,  2.07448900e-01,\n",
       "        -2.77216863e-02, -1.25532448e+00,  4.52697575e-01,\n",
       "         1.29571691e-01,  4.69887629e-02,  1.14818609e+00,\n",
       "        -1.75484490e+00,  1.01268589e+00, -2.41934729e+00,\n",
       "        -5.99424243e-01,  1.26234317e+00,  4.51204516e-02,\n",
       "        -1.16901147e+00,  5.52605242e-02,  9.27883387e-01,\n",
       "        -6.59202635e-01,  1.15468025e+00, -6.70556962e-01,\n",
       "        -2.45870113e+00],\n",
       "       [ 1.53863296e-01, -5.29706478e-01, -1.07268095e+00,\n",
       "         6.70430779e-01,  1.67871341e-01,  8.62518013e-01,\n",
       "         8.09154093e-01, -1.56960040e-01, -1.25301445e+00,\n",
       "        -9.65419412e-01,  1.95876491e+00, -4.30087388e-01,\n",
       "         3.42705548e-01,  1.97477961e+00, -1.44091976e+00,\n",
       "        -6.48099184e-01, -3.21491957e-01,  8.59550178e-01,\n",
       "        -6.93242550e-01, -2.74732798e-01, -7.72947967e-01,\n",
       "         1.06038618e+00,  2.50323534e-01,  5.16028166e-01,\n",
       "         6.01995051e-01,  7.54653454e-01, -3.16441447e-01,\n",
       "         1.08957517e+00, -8.70415866e-01, -4.73918021e-01,\n",
       "         4.48107511e-01, -2.05485910e-01,  5.01870513e-01,\n",
       "         4.77808982e-01, -1.15351188e+00, -9.59907591e-01,\n",
       "        -1.74095273e+00, -8.74183536e-01, -1.72049749e+00,\n",
       "        -6.34294748e-01,  1.70354974e+00, -1.05170274e+00,\n",
       "         1.38889581e-01, -1.35095370e+00,  8.01041424e-01,\n",
       "        -2.12225303e-01, -1.14516698e-01, -8.14327061e-01,\n",
       "        -8.52600038e-01,  3.13026644e-02, -1.17440486e+00,\n",
       "        -4.39524800e-02, -2.06588611e-01,  2.15086132e-01,\n",
       "        -8.41347694e-01, -3.24068636e-01,  2.20929191e-01,\n",
       "         1.14721537e+00, -3.92870665e-01,  3.85529310e-01,\n",
       "        -2.52585912e+00, -6.78478897e-01, -1.81264818e+00,\n",
       "         7.14303195e-01],\n",
       "       [ 1.38895237e+00,  1.11818504e+00, -4.67191637e-01,\n",
       "         6.29102349e-01, -7.64037669e-01,  1.38877511e+00,\n",
       "         2.29334712e+00,  1.21350005e-01,  9.60625112e-01,\n",
       "        -5.10058880e-01, -9.49652027e-03,  2.77629614e-01,\n",
       "         3.74738902e-01, -8.78329992e-01,  1.02236533e+00,\n",
       "         7.11754262e-02,  2.44644377e-02, -1.63617039e+00,\n",
       "         1.45452693e-01, -1.11625421e+00, -6.62495196e-01,\n",
       "        -1.71180737e+00,  8.57105553e-01, -9.66369689e-01,\n",
       "         1.43047345e+00,  9.44357961e-02,  1.18019128e+00,\n",
       "        -4.83249426e-01, -2.25830865e+00,  1.47339031e-01,\n",
       "         4.38370347e-01, -1.65023875e+00,  6.45222485e-01,\n",
       "         7.61570573e-01, -1.98863894e-01,  1.21653140e+00,\n",
       "        -8.74511540e-01,  5.32972038e-01,  1.26114547e-01,\n",
       "        -8.69447708e-01, -8.65047514e-01, -1.82547286e-01,\n",
       "        -2.37358399e-02,  6.16086304e-01, -9.46055830e-01,\n",
       "         1.96854007e+00, -4.94843781e-01, -9.93680239e-01,\n",
       "         6.79386675e-01, -4.47254568e-01, -9.36103225e-01,\n",
       "        -5.62619150e-01, -1.34251761e+00,  2.92368084e-01,\n",
       "        -3.21862608e-01, -1.13900833e-01,  7.81865716e-01,\n",
       "        -2.95164704e-01, -9.08093214e-01, -1.99140024e+00,\n",
       "        -7.42143169e-02,  7.09517837e-01, -6.36173069e-01,\n",
       "         1.74590349e+00],\n",
       "       [ 3.32566142e-01,  1.28418179e-02, -9.49397326e-01,\n",
       "         6.45030290e-02,  2.33908987e+00, -8.62493455e-01,\n",
       "        -6.29924417e-01,  2.38471285e-01,  2.24166608e+00,\n",
       "        -7.41650939e-01, -3.13462824e-01,  1.08238995e+00,\n",
       "        -1.25690186e+00,  8.25169146e-01, -5.53264737e-01,\n",
       "        -4.38645065e-01, -4.07082617e-01,  8.42680752e-01,\n",
       "        -8.15274894e-01, -6.21145308e-01, -1.53536355e+00,\n",
       "         2.30659723e+00, -1.01661742e-01, -7.84087300e-01,\n",
       "         7.69231915e-02,  6.47697523e-02,  4.04144406e-01,\n",
       "        -1.43605673e+00,  1.61435574e-01,  3.47053915e-01,\n",
       "        -6.97472334e-01, -1.30411518e+00,  8.77209902e-01,\n",
       "        -7.96129584e-01, -1.45050859e+00,  2.44268000e-01,\n",
       "         1.67031443e+00, -1.07453048e+00, -7.05479920e-01,\n",
       "         5.94999194e-01,  1.49454963e+00,  1.36811340e+00,\n",
       "        -1.93269961e-02,  5.05749471e-02,  9.43111181e-01,\n",
       "         7.10436583e-01,  9.37905610e-01,  6.57313824e-01,\n",
       "         1.32327557e+00, -4.14415836e-01, -1.99625516e+00,\n",
       "         3.19431901e-01, -7.09484100e-01,  1.07670975e+00,\n",
       "         1.84233621e-01,  1.80694509e+00, -4.53107715e-01,\n",
       "        -4.68505360e-02,  5.61921537e-01, -4.72089738e-01,\n",
       "         1.58659196e+00,  3.34513605e-01,  1.01011014e+00,\n",
       "        -6.28903210e-01]], dtype=float32)>"
      ]
     },
     "execution_count": 9,
     "metadata": {},
     "output_type": "execute_result"
    }
   ],
   "source": [
    "A"
   ]
  },
  {
   "cell_type": "code",
   "execution_count": null,
   "metadata": {},
   "outputs": [],
   "source": []
  }
 ],
 "metadata": {
  "kernelspec": {
   "display_name": "Python 3.7.11 ('blue')",
   "language": "python",
   "name": "python3"
  },
  "language_info": {
   "codemirror_mode": {
    "name": "ipython",
    "version": 3
   },
   "file_extension": ".py",
   "mimetype": "text/x-python",
   "name": "python",
   "nbconvert_exporter": "python",
   "pygments_lexer": "ipython3",
   "version": "3.7.11"
  },
  "orig_nbformat": 4,
  "vscode": {
   "interpreter": {
    "hash": "12d65967f7c8026481c88990e183b3c6a37e5750f05c2eba6a63cda58643ee39"
   }
  }
 },
 "nbformat": 4,
 "nbformat_minor": 2
}
